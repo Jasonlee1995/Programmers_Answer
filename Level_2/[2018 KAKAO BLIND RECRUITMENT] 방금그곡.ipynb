{
 "cells": [
  {
   "cell_type": "markdown",
   "metadata": {},
   "source": [
    "## [2018 KAKAO BLIND RECRUITMENT] 방금그곡\n",
    "\n",
    "- 문제 링크 : <https://programmers.co.kr/learn/courses/30/lessons/17683>\n",
    "- 풀이 날짜 : 7 Mar 2020\n",
    "- 문제가 변경되어 풀이가 더이상 적용되지 않는다면 issue를 남겨주시면 됩니다\n",
    "- 본 풀이는 스스로 풀었기에 최적이 아닐 수 있음을 미리 알려드립니다"
   ]
  },
  {
   "cell_type": "code",
   "execution_count": null,
   "metadata": {},
   "outputs": [],
   "source": [
    "def change(melody):\n",
    "    if 'A#' in melody: melody = melody.replace('A#', 'a')\n",
    "    if 'C#' in melody: melody = melody.replace('C#', 'c')\n",
    "    if 'D#' in melody: melody = melody.replace('D#', 'd')\n",
    "    if 'F#' in melody: melody = melody.replace('F#', 'f')\n",
    "    if 'G#' in melody: melody = melody.replace('G#', 'g')\n",
    "    return melody\n",
    "\n",
    "def solution(m, musicinfos):\n",
    "    m = change(m)\n",
    "    answer = ('(None)', None)\n",
    "    for info in musicinfos:\n",
    "        start, end, title, melody = info.split(',')\n",
    "        start_h, start_m, end_h, end_m = map(int, start.split(':') + end.split(':'))\n",
    "        time = 60*(end_h-start_h) + (end_m-start_m)\n",
    "        melody = change(melody)\n",
    "        melody_played = (melody*time)[:time]\n",
    "        if m in melody_played:\n",
    "            if (answer[1] == None) or (time > answer[1]):\n",
    "                answer = (title, time)\n",
    "    return answer[0]"
   ]
  }
 ],
 "metadata": {
  "kernelspec": {
   "display_name": "py_36",
   "language": "python",
   "name": "py_36"
  },
  "language_info": {
   "codemirror_mode": {
    "name": "ipython",
    "version": 3
   },
   "file_extension": ".py",
   "mimetype": "text/x-python",
   "name": "python",
   "nbconvert_exporter": "python",
   "pygments_lexer": "ipython3",
   "version": "3.6.10"
  }
 },
 "nbformat": 4,
 "nbformat_minor": 2
}
