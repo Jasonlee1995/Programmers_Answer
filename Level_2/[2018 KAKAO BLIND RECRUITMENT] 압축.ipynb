{
 "cells": [
  {
   "cell_type": "markdown",
   "metadata": {},
   "source": [
    "## [2018 KAKAO BLIND RECRUITMENT] 압축\n",
    "\n",
    "- 문제 링크 : <https://programmers.co.kr/learn/courses/30/lessons/17684>\n",
    "- 풀이 날짜 : 8 Mar 2020\n",
    "- 문제가 변경되어 풀이가 더이상 적용되지 않는다면 issue를 남겨주시면 됩니다\n",
    "- 본 풀이는 스스로 풀었기에 최적이 아닐 수 있음을 미리 알려드립니다"
   ]
  },
  {
   "cell_type": "code",
   "execution_count": null,
   "metadata": {},
   "outputs": [],
   "source": [
    "def solution(msg):\n",
    "    dic = {chr(i): i+1-ord('A') for i in range(ord('A'), ord('Z')+1)}\n",
    "    answer, start, end = list(), 0, 0\n",
    "    while end < len(msg):\n",
    "        if msg[start:end+1] in dic:\n",
    "            end += 1\n",
    "        else:\n",
    "            dic[msg[start:end+1]] = len(dic)+1\n",
    "            answer.append(dic[msg[start:end]])\n",
    "            start, end = end, end\n",
    "    answer.append(dic[msg[start:end+1]])\n",
    "    return answer"
   ]
  }
 ],
 "metadata": {
  "kernelspec": {
   "display_name": "py_36",
   "language": "python",
   "name": "py_36"
  },
  "language_info": {
   "codemirror_mode": {
    "name": "ipython",
    "version": 3
   },
   "file_extension": ".py",
   "mimetype": "text/x-python",
   "name": "python",
   "nbconvert_exporter": "python",
   "pygments_lexer": "ipython3",
   "version": "3.6.10"
  }
 },
 "nbformat": 4,
 "nbformat_minor": 2
}
