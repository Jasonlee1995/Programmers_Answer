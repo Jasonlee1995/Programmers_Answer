{
 "cells": [
  {
   "cell_type": "markdown",
   "metadata": {},
   "source": [
    "## [2021 KAKAO BLIND RECRUITMENT] 순위 검색\n",
    "\n",
    "- 문제 링크 : <https://programmers.co.kr/learn/courses/30/lessons/72412>\n",
    "- 풀이 날짜 : 3 Feb 2020\n",
    "- 문제가 변경되어 풀이가 더이상 적용되지 않는다면 issue를 남겨주시면 됩니다\n",
    "- 본 풀이는 스스로 풀었기에 최적이 아닐 수 있음을 미리 알려드립니다"
   ]
  },
  {
   "cell_type": "code",
   "execution_count": null,
   "metadata": {},
   "outputs": [],
   "source": [
    "import itertools\n",
    "\n",
    "def solution(info, query):\n",
    "    langs, jobs, careers, foods = (['cpp', 'java', 'python', '-'], ['backend', 'frontend', '-'], \n",
    "                                   ['junior', 'senior', '-'], ['chicken', 'pizza', '-'])\n",
    "    \n",
    "    dic = {comb:[] for comb in itertools.product(langs, jobs, careers, foods)}\n",
    "    for information in info:\n",
    "        lang, job, career, food, score = information.split()\n",
    "        langs, jobs, careers, foods = [lang, '-'], [job, '-'], [career, '-'], [food, '-']\n",
    "        for comb in itertools.product(langs, jobs, careers, foods):\n",
    "            dic[comb].append(int(score))\n",
    "    for comb in dic: dic[comb].sort()\n",
    "    \n",
    "    answer = []\n",
    "    for q in query:\n",
    "        temp = [word for word in q.split() if word != 'and']\n",
    "        comb, score = tuple(temp[:-1]), int(temp[-1])\n",
    "        if len(dic[comb]) == 0:\n",
    "            answer.append(0)\n",
    "        else:\n",
    "            index = [0, len(dic[comb])]\n",
    "            while index[1]-index[0] > 1:\n",
    "                if score > dic[comb][sum(index)//2]: index[0] = sum(index)//2\n",
    "                else: index[1] = sum(index)//2\n",
    "            if score > dic[comb][index[0]]: answer.append(len(dic[comb])-index[1])\n",
    "            else: answer.append(len(dic[comb])-index[0])\n",
    "    return answer"
   ]
  }
 ],
 "metadata": {
  "kernelspec": {
   "display_name": "py_36",
   "language": "python",
   "name": "py_36"
  },
  "language_info": {
   "codemirror_mode": {
    "name": "ipython",
    "version": 3
   },
   "file_extension": ".py",
   "mimetype": "text/x-python",
   "name": "python",
   "nbconvert_exporter": "python",
   "pygments_lexer": "ipython3",
   "version": "3.6.12"
  }
 },
 "nbformat": 4,
 "nbformat_minor": 2
}
