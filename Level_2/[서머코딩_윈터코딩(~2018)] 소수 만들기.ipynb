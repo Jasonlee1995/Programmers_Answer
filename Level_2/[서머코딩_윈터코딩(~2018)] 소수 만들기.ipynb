{
 "cells": [
  {
   "cell_type": "markdown",
   "metadata": {},
   "source": [
    "## [서머코딩_윈터코딩(~2018)] 소수 만들기\n",
    "\n",
    "- 문제 링크 : <https://programmers.co.kr/learn/courses/30/lessons/12977>\n",
    "- 풀이 날짜 : 27 Feb 2020\n",
    "- 문제가 변경되어 풀이가 더이상 적용되지 않는다면 issue를 남겨주시면 됩니다\n",
    "- 본 풀이는 스스로 풀었기에 최적이 아닐 수 있음을 미리 알려드립니다"
   ]
  },
  {
   "cell_type": "code",
   "execution_count": null,
   "metadata": {},
   "outputs": [],
   "source": [
    "import itertools\n",
    "\n",
    "def solution(nums):\n",
    "    candidates = list(map(sum, itertools.combinations(nums, 3)))\n",
    "    isPrime = [False, False] + [True]*(max(candidates)-1)\n",
    "    for i in range(2, int(len(isPrime)**0.5)+1):\n",
    "        for j in range(2*i, len(isPrime), i):\n",
    "            isPrime[j] = False\n",
    "    answer = sum(1 for candidate in candidates if isPrime[candidate]==True)\n",
    "    return answer"
   ]
  }
 ],
 "metadata": {
  "kernelspec": {
   "display_name": "py_36",
   "language": "python",
   "name": "py_36"
  },
  "language_info": {
   "codemirror_mode": {
    "name": "ipython",
    "version": 3
   },
   "file_extension": ".py",
   "mimetype": "text/x-python",
   "name": "python",
   "nbconvert_exporter": "python",
   "pygments_lexer": "ipython3",
   "version": "3.6.10"
  }
 },
 "nbformat": 4,
 "nbformat_minor": 2
}
