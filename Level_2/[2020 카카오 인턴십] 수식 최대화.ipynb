{
 "cells": [
  {
   "cell_type": "markdown",
   "metadata": {},
   "source": [
    "## [2020 카카오 인턴십] 수식 최대화\n",
    "\n",
    "- 문제 링크 : <https://programmers.co.kr/learn/courses/30/lessons/67257>\n",
    "- 풀이 날짜 : 5 Jul 2020\n",
    "- 문제가 변경되어 풀이가 더이상 적용되지 않는다면 issue를 남겨주시면 됩니다\n",
    "- 본 풀이는 스스로 풀었기에 최적이 아닐 수 있음을 미리 알려드립니다"
   ]
  },
  {
   "cell_type": "code",
   "execution_count": null,
   "metadata": {},
   "outputs": [],
   "source": [
    "import itertools\n",
    "\n",
    "def solution(expression):\n",
    "    numbers, operations = [], []\n",
    "    temp_num = ''\n",
    "    for i in range(len(expression)):\n",
    "        if expression[i].isdigit():\n",
    "            temp_num += expression[i]\n",
    "        else:\n",
    "            numbers.append(int(temp_num))\n",
    "            temp_num = ''\n",
    "            operations.append(expression[i])\n",
    "    numbers.append(int(temp_num))\n",
    "    \n",
    "    answer = 0\n",
    "    for order in itertools.permutations(['+', '-', '*']):\n",
    "        temp_answer = numbers.copy()\n",
    "        temp_operations = operations.copy()\n",
    "        for i in range(len(order)):\n",
    "            index = 0\n",
    "            while index < len(temp_operations):\n",
    "                if temp_operations[index] == order[i]:\n",
    "                    if temp_operations[index] == '+':\n",
    "                        temp_answer[index] += temp_answer[index+1]\n",
    "                    elif temp_operations[index] == '-':\n",
    "                        temp_answer[index] -= temp_answer[index+1]\n",
    "                    elif temp_operations[index] == '*':\n",
    "                        temp_answer[index] *= temp_answer[index+1]\n",
    "                    temp_operations.pop(index)\n",
    "                    temp_answer.pop(index+1)\n",
    "                else:\n",
    "                    index += 1\n",
    "        answer = max(answer, abs(temp_answer[0]))\n",
    "    return answer"
   ]
  }
 ],
 "metadata": {
  "kernelspec": {
   "display_name": "py_36",
   "language": "python",
   "name": "py_36"
  },
  "language_info": {
   "codemirror_mode": {
    "name": "ipython",
    "version": 3
   },
   "file_extension": ".py",
   "mimetype": "text/x-python",
   "name": "python",
   "nbconvert_exporter": "python",
   "pygments_lexer": "ipython3",
   "version": "3.6.10"
  }
 },
 "nbformat": 4,
 "nbformat_minor": 2
}
