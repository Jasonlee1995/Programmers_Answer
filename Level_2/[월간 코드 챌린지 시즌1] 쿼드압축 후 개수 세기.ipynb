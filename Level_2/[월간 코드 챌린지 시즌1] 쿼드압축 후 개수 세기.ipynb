{
 "cells": [
  {
   "cell_type": "markdown",
   "metadata": {},
   "source": [
    "## [월간 코드 챌린지 시즌1] 쿼드압축 후 개수 세기\n",
    "\n",
    "- 문제 링크 : <https://programmers.co.kr/learn/courses/30/lessons/68936>\n",
    "- 풀이 날짜 : 15 Oct 2020\n",
    "- 문제가 변경되어 풀이가 더이상 적용되지 않는다면 issue를 남겨주시면 됩니다\n",
    "- 본 풀이는 스스로 풀었기에 최적이 아닐 수 있음을 미리 알려드립니다"
   ]
  },
  {
   "cell_type": "code",
   "execution_count": null,
   "metadata": {},
   "outputs": [],
   "source": [
    "import numpy as np\n",
    "\n",
    "\n",
    "def answer(arr):\n",
    "    if np.all(arr == 0): return np.array([1, 0])\n",
    "    if np.all(arr == 1): return np.array([0, 1])\n",
    "    N = len(arr)//2\n",
    "    return answer(arr[:N,:N]) + answer(arr[:N,N:]) + answer(arr[N:,:N]) + answer(arr[N:,N:])\n",
    "    \n",
    "\n",
    "def solution(arr):\n",
    "    return answer(np.array(arr)).tolist()"
   ]
  }
 ],
 "metadata": {
  "kernelspec": {
   "display_name": "py_36",
   "language": "python",
   "name": "py_36"
  },
  "language_info": {
   "codemirror_mode": {
    "name": "ipython",
    "version": 3
   },
   "file_extension": ".py",
   "mimetype": "text/x-python",
   "name": "python",
   "nbconvert_exporter": "python",
   "pygments_lexer": "ipython3",
   "version": "3.6.12"
  }
 },
 "nbformat": 4,
 "nbformat_minor": 2
}
