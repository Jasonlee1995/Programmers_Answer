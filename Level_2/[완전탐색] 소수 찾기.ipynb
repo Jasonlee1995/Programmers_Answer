{
 "cells": [
  {
   "cell_type": "markdown",
   "metadata": {},
   "source": [
    "## [완전탐색] 소수 찾기\n",
    "\n",
    "- 문제 링크 : <https://programmers.co.kr/learn/courses/30/lessons/42839>\n",
    "- 풀이 날짜 : 2 Feb 2020\n",
    "- 문제가 변경되어 풀이가 더이상 적용되지 않는다면 issue를 남겨주시면 됩니다\n",
    "- 본 풀이는 스스로 풀었기에 최적이 아닐 수 있음을 미리 알려드립니다"
   ]
  },
  {
   "cell_type": "code",
   "execution_count": null,
   "metadata": {},
   "outputs": [],
   "source": [
    "import itertools\n",
    "\n",
    "def solution(numbers):\n",
    "    candidate = set()\n",
    "    for i in range(1, len(numbers)+1):\n",
    "        candidate.update(set(map(int, map(''.join, itertools.permutations(numbers, i)))))\n",
    "    candidate -= set(range(0, 2))\n",
    "    m = max(candidate)\n",
    "    for i in range(2, m//2+1):\n",
    "        candidate -= set(range(2*i, m+1, i))\n",
    "    return len(candidate)"
   ]
  }
 ],
 "metadata": {
  "kernelspec": {
   "display_name": "py_36",
   "language": "python",
   "name": "py_36"
  },
  "language_info": {
   "codemirror_mode": {
    "name": "ipython",
    "version": 3
   },
   "file_extension": ".py",
   "mimetype": "text/x-python",
   "name": "python",
   "nbconvert_exporter": "python",
   "pygments_lexer": "ipython3",
   "version": "3.6.9"
  }
 },
 "nbformat": 4,
 "nbformat_minor": 2
}
