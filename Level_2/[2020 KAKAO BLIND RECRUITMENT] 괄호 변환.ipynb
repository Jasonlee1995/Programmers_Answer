{
 "cells": [
  {
   "cell_type": "markdown",
   "metadata": {},
   "source": [
    "## [2020 KAKAO BLIND RECRUITMENT] 괄호 변환\n",
    "\n",
    "- 문제 링크 : <https://programmers.co.kr/learn/courses/30/lessons/60058>\n",
    "- 풀이 날짜 : 1 Feb 2020\n",
    "- 문제가 변경되어 풀이가 더이상 적용되지 않는다면 issue를 남겨주시면 됩니다\n",
    "- 본 풀이는 스스로 풀었기에 최적이 아닐 수 있음을 미리 알려드립니다"
   ]
  },
  {
   "cell_type": "code",
   "execution_count": null,
   "metadata": {},
   "outputs": [],
   "source": [
    "def check(p):\n",
    "    stack = []\n",
    "    try:\n",
    "        for l in p:\n",
    "            if l == '(': stack.append('(')\n",
    "            else: stack.pop()\n",
    "        return True\n",
    "    except:\n",
    "        return False\n",
    "    \n",
    "def convert(u):\n",
    "    temp = ''\n",
    "    for l in u:\n",
    "        if l == '(': temp += ')'\n",
    "        else: temp += '('\n",
    "    return temp\n",
    "\n",
    "def divide(p):\n",
    "    count = [0, 0]\n",
    "    for l in p:\n",
    "        if l == '(': count[0] += 1\n",
    "        else: count[1] += 1\n",
    "        if count[0] == count[1]:\n",
    "            break\n",
    "    return p[:sum(count)], p[sum(count):]\n",
    "\n",
    "def solution(p):\n",
    "    answer = ''\n",
    "    while len(p) != 0:\n",
    "        u, p = divide(p)\n",
    "        if check(u):\n",
    "            answer += u\n",
    "        else:\n",
    "            answer = answer + '(' + solution(p) + ')' + convert(u[1:-1])\n",
    "            break\n",
    "    return answer"
   ]
  }
 ],
 "metadata": {
  "kernelspec": {
   "display_name": "py_36",
   "language": "python",
   "name": "py_36"
  },
  "language_info": {
   "codemirror_mode": {
    "name": "ipython",
    "version": 3
   },
   "file_extension": ".py",
   "mimetype": "text/x-python",
   "name": "python",
   "nbconvert_exporter": "python",
   "pygments_lexer": "ipython3",
   "version": "3.6.9"
  }
 },
 "nbformat": 4,
 "nbformat_minor": 2
}
