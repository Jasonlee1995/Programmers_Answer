{
 "cells": [
  {
   "cell_type": "markdown",
   "metadata": {},
   "source": [
    "## [탐욕법] 조이스틱\n",
    "\n",
    "- 문제 링크 : <https://programmers.co.kr/learn/courses/30/lessons/42860>\n",
    "- 풀이 날짜 : 30 Jan 2020\n",
    "- 문제가 변경되어 풀이가 더이상 적용되지 않는다면 issue를 남겨주시면 됩니다\n",
    "- 본 풀이는 스스로 풀었기에 최적이 아닐 수 있음을 미리 알려드립니다"
   ]
  },
  {
   "cell_type": "code",
   "execution_count": null,
   "metadata": {},
   "outputs": [],
   "source": [
    "def change(string):\n",
    "    alphabet = 'ABCDEFGHIJKLMNOPQRSTUVWXYZ'\n",
    "    return min(alphabet.index(string), len(alphabet)-alphabet.index(string))\n",
    "\n",
    "def solution(name):\n",
    "    mask = []\n",
    "    answer_0 = 0\n",
    "    for string in name:\n",
    "        c = change(string)\n",
    "        if c == 0: mask.append(0)\n",
    "        else: mask.append(1)\n",
    "        answer_0 += c\n",
    "    \n",
    "    answer_1 = None\n",
    "    for i in range(len(mask)):\n",
    "        temp_mask1, temp_mask2 = mask.copy(), mask.copy()\n",
    "        temp_mask1[0], temp_mask2[0] = 0, 0\n",
    "        \n",
    "        check1, index, direction = 0, 0, 1\n",
    "        while sum(temp_mask1) != 0:\n",
    "            if index == i: direction = -1\n",
    "            check1, index = check1+1, index+direction\n",
    "            temp_mask1[index] = 0\n",
    "\n",
    "        check2, index, direction = 0, 0, -1\n",
    "        while sum(temp_mask2) != 0:\n",
    "            if index == i: direction = 1\n",
    "            check2, index = check2+1, index+direction\n",
    "            temp_mask2[index] = 0\n",
    "                \n",
    "        if answer_1 == None: answer_1 = min(check1, check2)\n",
    "        else: answer_1 = min(answer_1, check1, check2)\n",
    "    \n",
    "    return answer_0 + answer_1"
   ]
  }
 ],
 "metadata": {
  "kernelspec": {
   "display_name": "py_36",
   "language": "python",
   "name": "py_36"
  },
  "language_info": {
   "codemirror_mode": {
    "name": "ipython",
    "version": 3
   },
   "file_extension": ".py",
   "mimetype": "text/x-python",
   "name": "python",
   "nbconvert_exporter": "python",
   "pygments_lexer": "ipython3",
   "version": "3.6.9"
  }
 },
 "nbformat": 4,
 "nbformat_minor": 2
}
