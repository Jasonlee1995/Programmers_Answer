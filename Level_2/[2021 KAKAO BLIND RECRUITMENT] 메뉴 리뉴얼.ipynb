{
 "cells": [
  {
   "cell_type": "markdown",
   "metadata": {},
   "source": [
    "## [2021 KAKAO BLIND RECRUITMENT] 메뉴 리뉴얼\n",
    "\n",
    "- 문제 링크 : <https://programmers.co.kr/learn/courses/30/lessons/72411>\n",
    "- 풀이 날짜 : 9 Feb 2020\n",
    "- 문제가 변경되어 풀이가 더이상 적용되지 않는다면 issue를 남겨주시면 됩니다\n",
    "- 본 풀이는 스스로 풀었기에 최적이 아닐 수 있음을 미리 알려드립니다"
   ]
  },
  {
   "cell_type": "code",
   "execution_count": null,
   "metadata": {},
   "outputs": [],
   "source": [
    "import collections, itertools\n",
    "\n",
    "def solution(orders, course):\n",
    "    result = []\n",
    "    for size in course:\n",
    "        combs = []\n",
    "        for order in orders: combs += itertools.combinations(sorted(order), size)\n",
    "\n",
    "        ordered_combs = collections.Counter(combs).most_common()\n",
    "        for i, (ordered_comb, count) in enumerate(ordered_combs):\n",
    "            if (i == 0) and (count >= 2): result.append(''.join(sorted(ordered_comb)))\n",
    "            elif (i > 0) and (count == ordered_combs[0][1]): result.append(''.join(sorted(ordered_comb)))\n",
    "            else: break\n",
    "\n",
    "    return sorted(result)"
   ]
  }
 ],
 "metadata": {
  "kernelspec": {
   "display_name": "py_36",
   "language": "python",
   "name": "py_36"
  },
  "language_info": {
   "codemirror_mode": {
    "name": "ipython",
    "version": 3
   },
   "file_extension": ".py",
   "mimetype": "text/x-python",
   "name": "python",
   "nbconvert_exporter": "python",
   "pygments_lexer": "ipython3",
   "version": "3.6.12"
  }
 },
 "nbformat": 4,
 "nbformat_minor": 2
}
