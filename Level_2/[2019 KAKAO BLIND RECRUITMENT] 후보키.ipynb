{
 "cells": [
  {
   "cell_type": "markdown",
   "metadata": {},
   "source": [
    "## [2019 KAKAO BLIND RECRUITMENT] 후보키\n",
    "\n",
    "- 문제 링크 : <https://programmers.co.kr/learn/courses/30/lessons/42890>\n",
    "- 풀이 날짜 : 6 Mar 2020\n",
    "- 문제가 변경되어 풀이가 더이상 적용되지 않는다면 issue를 남겨주시면 됩니다\n",
    "- 본 풀이는 스스로 풀었기에 최적이 아닐 수 있음을 미리 알려드립니다"
   ]
  },
  {
   "cell_type": "code",
   "execution_count": null,
   "metadata": {},
   "outputs": [],
   "source": [
    "import itertools\n",
    "\n",
    "def transpose(matrix, n_row, n_col):\n",
    "    matrix_transpose = [[] for i in range(n_col)]\n",
    "    for j in range(n_col):\n",
    "        for i in range(n_row):\n",
    "            matrix_transpose[j].append(matrix[i][j])\n",
    "    return matrix_transpose\n",
    "\n",
    "def solution(relation):\n",
    "    n_row, n_col = len(relation), len(relation[0])\n",
    "    relation_transpose = transpose(relation, n_row, n_col)\n",
    "    \n",
    "    candidates = list()\n",
    "    for i in range(1, n_col+1):\n",
    "        for numbers in itertools.combinations(range(n_col), i):\n",
    "            temp = [relation_transpose[number] for number in numbers]\n",
    "            check = set(zip(*temp))\n",
    "            if len(check) == n_row:\n",
    "                candidates.append(set(numbers))\n",
    "\n",
    "    index = 0\n",
    "    while index < len(candidates):\n",
    "        trash = list()\n",
    "        for i in range(index+1, len(candidates)):\n",
    "            temp = candidates[index] | candidates[i]\n",
    "            if len(temp) == len(candidates[i]):\n",
    "                trash.append(temp)\n",
    "        for redundant in trash:\n",
    "            candidates.remove(redundant)\n",
    "        index += 1\n",
    "    return len(candidates)"
   ]
  }
 ],
 "metadata": {
  "kernelspec": {
   "display_name": "py_36",
   "language": "python",
   "name": "py_36"
  },
  "language_info": {
   "codemirror_mode": {
    "name": "ipython",
    "version": 3
   },
   "file_extension": ".py",
   "mimetype": "text/x-python",
   "name": "python",
   "nbconvert_exporter": "python",
   "pygments_lexer": "ipython3",
   "version": "3.6.10"
  }
 },
 "nbformat": 4,
 "nbformat_minor": 2
}
