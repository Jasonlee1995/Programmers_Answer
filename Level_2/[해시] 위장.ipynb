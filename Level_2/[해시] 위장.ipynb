{
 "cells": [
  {
   "cell_type": "markdown",
   "metadata": {},
   "source": [
    "## [해시] 위장\n",
    "\n",
    "- 문제 링크 : <https://programmers.co.kr/learn/courses/30/lessons/42578>\n",
    "- 풀이 날짜 : 9 Feb 2020\n",
    "- 문제가 변경되어 풀이가 더이상 적용되지 않는다면 issue를 남겨주시면 됩니다\n",
    "- 본 풀이는 스스로 풀었기에 최적이 아닐 수 있음을 미리 알려드립니다"
   ]
  },
  {
   "cell_type": "code",
   "execution_count": null,
   "metadata": {},
   "outputs": [],
   "source": [
    "def solution(clothes):\n",
    "    clothes_dic = dict()\n",
    "    for cloth in clothes:\n",
    "        if cloth[1] not in clothes_dic: clothes_dic[cloth[1]] = 1\n",
    "        else: clothes_dic[cloth[1]] += 1\n",
    "    answer = 1\n",
    "    for number in clothes_dic.values():\n",
    "        answer *= (number + 1)\n",
    "    return answer-1"
   ]
  }
 ],
 "metadata": {
  "kernelspec": {
   "display_name": "py_36",
   "language": "python",
   "name": "py_36"
  },
  "language_info": {
   "codemirror_mode": {
    "name": "ipython",
    "version": 3
   },
   "file_extension": ".py",
   "mimetype": "text/x-python",
   "name": "python",
   "nbconvert_exporter": "python",
   "pygments_lexer": "ipython3",
   "version": "3.6.9"
  }
 },
 "nbformat": 4,
 "nbformat_minor": 2
}
