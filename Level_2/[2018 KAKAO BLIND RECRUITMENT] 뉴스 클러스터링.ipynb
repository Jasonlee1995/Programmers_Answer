{
 "cells": [
  {
   "cell_type": "markdown",
   "metadata": {},
   "source": [
    "## [2018 KAKAO BLIND RECRUITMENT] 뉴스 클러스터링\n",
    "\n",
    "- 문제 링크 : <https://programmers.co.kr/learn/courses/30/lessons/17677>\n",
    "- 풀이 날짜 : 2 Mar 2020\n",
    "- 문제가 변경되어 풀이가 더이상 적용되지 않는다면 issue를 남겨주시면 됩니다\n",
    "- 본 풀이는 스스로 풀었기에 최적이 아닐 수 있음을 미리 알려드립니다"
   ]
  },
  {
   "cell_type": "code",
   "execution_count": null,
   "metadata": {},
   "outputs": [],
   "source": [
    "import collections\n",
    "\n",
    "def solution(str1, str2):\n",
    "    arr1, arr2 = list(), list()\n",
    "    for i in range(max(len(str1), len(str2))-1):\n",
    "        if (str1[i:i+2].isalpha()) and (len(str1[i:i+2]) == 2): arr1.append(str1[i:i+2].lower())\n",
    "        if (str2[i:i+2].isalpha()) and (len(str2[i:i+2]) == 2): arr2.append(str2[i:i+2].lower())\n",
    "    counter1, counter2 = collections.Counter(arr1), collections.Counter(arr2)\n",
    "    intersection, union = counter1 & counter2, counter1 | counter2\n",
    "    sum1, sum2 = sum(x[1] for x in intersection.items()), sum(x[1] for x in union.items())\n",
    "    if sum2 == 0: return 65536\n",
    "    else: return (65536*sum1) // sum2"
   ]
  }
 ],
 "metadata": {
  "kernelspec": {
   "display_name": "py_36",
   "language": "python",
   "name": "py_36"
  },
  "language_info": {
   "codemirror_mode": {
    "name": "ipython",
    "version": 3
   },
   "file_extension": ".py",
   "mimetype": "text/x-python",
   "name": "python",
   "nbconvert_exporter": "python",
   "pygments_lexer": "ipython3",
   "version": "3.6.10"
  }
 },
 "nbformat": 4,
 "nbformat_minor": 2
}
