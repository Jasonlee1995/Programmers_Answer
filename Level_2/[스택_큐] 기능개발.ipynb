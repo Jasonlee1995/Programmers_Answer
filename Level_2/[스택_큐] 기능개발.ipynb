{
 "cells": [
  {
   "cell_type": "markdown",
   "metadata": {},
   "source": [
    "## [스택_큐] 기능개발\n",
    "\n",
    "- 문제 링크 : <https://programmers.co.kr/learn/courses/30/lessons/42586>\n",
    "- 풀이 날짜 : 29 Jan 2020\n",
    "- 문제가 변경되어 풀이가 더이상 적용되지 않는다면 issue를 남겨주시면 됩니다\n",
    "- 본 풀이는 스스로 풀었기에 최적이 아닐 수 있음을 미리 알려드립니다"
   ]
  },
  {
   "cell_type": "code",
   "execution_count": null,
   "metadata": {},
   "outputs": [],
   "source": [
    "def solution(progresses, speeds):\n",
    "    index = 0\n",
    "    answer = []\n",
    "    while index < len(progresses):\n",
    "        left = 100-progresses[index]\n",
    "        if left % speeds[index] == 0: time = left//speeds[index]\n",
    "        else: time = left//speeds[index] + 1\n",
    "        number = 1\n",
    "        for i in range(index+1, len(progresses)):\n",
    "            if progresses[i] + time*speeds[i] < 100:\n",
    "                answer.append(number)\n",
    "                index = i\n",
    "                break\n",
    "            else: number += 1\n",
    "        else:\n",
    "            answer.append(number)\n",
    "            break\n",
    "    return answer"
   ]
  }
 ],
 "metadata": {
  "kernelspec": {
   "display_name": "py_36",
   "language": "python",
   "name": "py_36"
  },
  "language_info": {
   "codemirror_mode": {
    "name": "ipython",
    "version": 3
   },
   "file_extension": ".py",
   "mimetype": "text/x-python",
   "name": "python",
   "nbconvert_exporter": "python",
   "pygments_lexer": "ipython3",
   "version": "3.6.9"
  }
 },
 "nbformat": 4,
 "nbformat_minor": 2
}
