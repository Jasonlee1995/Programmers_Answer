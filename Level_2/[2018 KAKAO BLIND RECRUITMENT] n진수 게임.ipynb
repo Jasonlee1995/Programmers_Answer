{
 "cells": [
  {
   "cell_type": "markdown",
   "metadata": {},
   "source": [
    "## [2018 KAKAO BLIND RECRUITMENT] n진수 게임\n",
    "\n",
    "- 문제 링크 : <https://programmers.co.kr/learn/courses/30/lessons/17687>\n",
    "- 풀이 날짜 : 10 Mar 2020\n",
    "- 문제가 변경되어 풀이가 더이상 적용되지 않는다면 issue를 남겨주시면 됩니다\n",
    "- 본 풀이는 스스로 풀었기에 최적이 아닐 수 있음을 미리 알려드립니다"
   ]
  },
  {
   "cell_type": "code",
   "execution_count": null,
   "metadata": {},
   "outputs": [],
   "source": [
    "def change(number, n):\n",
    "    dic = {i:hex(i)[2:].upper() for i in range(16)}\n",
    "    if number//n == 0: return dic[number]\n",
    "    else: return change(number//n, n) + dic[number%n]\n",
    "\n",
    "def solution(n, t, m, p):\n",
    "    number, index = 0, 0\n",
    "    answer = ''\n",
    "    while len(answer) < t:\n",
    "        number_str = change(number, n)\n",
    "        for num in number_str:\n",
    "            if index == p-1: answer += num\n",
    "            index = (index+1) % m\n",
    "        number += 1\n",
    "    return answer[:t]"
   ]
  }
 ],
 "metadata": {
  "kernelspec": {
   "display_name": "py_36",
   "language": "python",
   "name": "py_36"
  },
  "language_info": {
   "codemirror_mode": {
    "name": "ipython",
    "version": 3
   },
   "file_extension": ".py",
   "mimetype": "text/x-python",
   "name": "python",
   "nbconvert_exporter": "python",
   "pygments_lexer": "ipython3",
   "version": "3.6.10"
  }
 },
 "nbformat": 4,
 "nbformat_minor": 2
}
