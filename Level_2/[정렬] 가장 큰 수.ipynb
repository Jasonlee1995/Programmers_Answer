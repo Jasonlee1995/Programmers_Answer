{
 "cells": [
  {
   "cell_type": "markdown",
   "metadata": {},
   "source": [
    "## [정렬] 가장 큰 수\n",
    "\n",
    "- 문제 링크 : <https://programmers.co.kr/learn/courses/30/lessons/42746>\n",
    "- 풀이 날짜 : 31 Jan 2020\n",
    "- 문제가 변경되어 풀이가 더이상 적용되지 않는다면 issue를 남겨주시면 됩니다\n",
    "- 본 풀이는 스스로 풀었기에 최적이 아닐 수 있음을 미리 알려드립니다"
   ]
  },
  {
   "cell_type": "code",
   "execution_count": null,
   "metadata": {},
   "outputs": [],
   "source": [
    "def compare(arr1, arr2):\n",
    "    temp = []\n",
    "    i, j = 0, 0\n",
    "    while (i != len(arr1)) and (j != len(arr2)):\n",
    "        if arr1[i]+arr2[j] > arr2[j]+arr1[i]:\n",
    "            temp.append(arr1[i])\n",
    "            i += 1\n",
    "        else:\n",
    "            temp.append(arr2[j])\n",
    "            j += 1\n",
    "    temp = temp + arr1[i:] + arr2[j:]\n",
    "    return temp\n",
    "    \n",
    "def divide_conquer(numbers):\n",
    "    l = len(numbers)\n",
    "    if l <= 1:\n",
    "        return numbers\n",
    "    else:\n",
    "        left, right = divide_conquer(numbers[:l//2]), divide_conquer(numbers[l//2:])\n",
    "        return compare(left, right)\n",
    "    \n",
    "def solution(numbers):\n",
    "    numbers = list((map(str, numbers)))\n",
    "    answer = ''.join(divide_conquer(numbers))\n",
    "    return str(int(answer))"
   ]
  }
 ],
 "metadata": {
  "kernelspec": {
   "display_name": "py_36",
   "language": "python",
   "name": "py_36"
  },
  "language_info": {
   "codemirror_mode": {
    "name": "ipython",
    "version": 3
   },
   "file_extension": ".py",
   "mimetype": "text/x-python",
   "name": "python",
   "nbconvert_exporter": "python",
   "pygments_lexer": "ipython3",
   "version": "3.6.9"
  }
 },
 "nbformat": 4,
 "nbformat_minor": 2
}
