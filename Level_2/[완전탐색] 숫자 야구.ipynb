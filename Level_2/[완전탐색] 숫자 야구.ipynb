{
 "cells": [
  {
   "cell_type": "markdown",
   "metadata": {},
   "source": [
    "## [완전탐색] 숫자 야구\n",
    "\n",
    "- 문제 링크 : <https://programmers.co.kr/learn/courses/30/lessons/42841>\n",
    "- 풀이 날짜 : 8 Feb 2020\n",
    "- 문제가 변경되어 풀이가 더이상 적용되지 않는다면 issue를 남겨주시면 됩니다\n",
    "- 본 풀이는 스스로 풀었기에 최적이 아닐 수 있음을 미리 알려드립니다"
   ]
  },
  {
   "cell_type": "code",
   "execution_count": null,
   "metadata": {},
   "outputs": [],
   "source": [
    "import itertools\n",
    "\n",
    "def strike_ball(number, candidate):\n",
    "    strike, ball = 0, 0\n",
    "    for num in number:\n",
    "        if num in candidate:\n",
    "            if number.index(num) == candidate.index(num): strike += 1\n",
    "            else: ball += 1\n",
    "    return (strike, ball)\n",
    "\n",
    "def solution(baseball):\n",
    "    candidate = list(map(''.join, itertools.permutations(map(str, range(1, 10)), 3)))\n",
    "    for i in range(len(baseball)):\n",
    "        number, strike, ball = baseball[i]\n",
    "        answer = []\n",
    "        for i in range(len(candidate)):\n",
    "            temp_strike, temp_ball = strike_ball(str(number), candidate[i])\n",
    "            if (temp_strike == strike) and (temp_ball == ball):\n",
    "                answer.append(candidate[i])\n",
    "        candidate = answer\n",
    "    return len(candidate)"
   ]
  }
 ],
 "metadata": {
  "kernelspec": {
   "display_name": "py_36",
   "language": "python",
   "name": "py_36"
  },
  "language_info": {
   "codemirror_mode": {
    "name": "ipython",
    "version": 3
   },
   "file_extension": ".py",
   "mimetype": "text/x-python",
   "name": "python",
   "nbconvert_exporter": "python",
   "pygments_lexer": "ipython3",
   "version": "3.6.9"
  }
 },
 "nbformat": 4,
 "nbformat_minor": 2
}
