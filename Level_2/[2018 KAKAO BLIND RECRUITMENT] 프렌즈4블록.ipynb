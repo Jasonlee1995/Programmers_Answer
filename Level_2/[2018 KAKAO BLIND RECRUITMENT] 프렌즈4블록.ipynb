{
 "cells": [
  {
   "cell_type": "markdown",
   "metadata": {},
   "source": [
    "## [2018 KAKAO BLIND RECRUITMENT] 프렌즈4블록\n",
    "\n",
    "- 문제 링크 : <https://programmers.co.kr/learn/courses/30/lessons/17679>\n",
    "- 풀이 날짜 : 3 Mar 2020\n",
    "- 문제가 변경되어 풀이가 더이상 적용되지 않는다면 issue를 남겨주시면 됩니다\n",
    "- 본 풀이는 스스로 풀었기에 최적이 아닐 수 있음을 미리 알려드립니다"
   ]
  },
  {
   "cell_type": "code",
   "execution_count": null,
   "metadata": {},
   "outputs": [],
   "source": [
    "def transpose(m, n, matrix):\n",
    "    transpose_matrix = list()\n",
    "    for j in range(n):\n",
    "        temp = list()\n",
    "        for i in range(m):\n",
    "            temp.append(matrix[i][j])\n",
    "        transpose_matrix.append(temp)\n",
    "    return n, m, transpose_matrix\n",
    "\n",
    "def check(m, n, matrix):\n",
    "    trash = set()\n",
    "    for i in range(m-1):\n",
    "        for j in range(n-1):\n",
    "            if (matrix[i][j] == matrix[i][j+1] == matrix[i+1][j] == matrix[i+1][j+1] != None):\n",
    "                trash.update({(i, j), (i, j+1), (i+1, j), (i+1, j+1)})\n",
    "    return trash\n",
    "\n",
    "def change(matrix, trash):\n",
    "    for x, y in trash:\n",
    "        matrix[x][y] = None\n",
    "        \n",
    "def sortNone(m, n, matrix):\n",
    "    for i in range(m):\n",
    "        stack = [matrix[i][j] for j in range(n) if matrix[i][j] != None]\n",
    "        matrix[i] = [None]*(n-len(stack)) + stack\n",
    "\n",
    "def solution(m, n, board):\n",
    "    m, n, board = transpose(m, n, board)\n",
    "    answer = 0\n",
    "    while True:\n",
    "        trash = check(m, n, board)\n",
    "        if len(trash) == 0:\n",
    "            return answer\n",
    "        else:\n",
    "            answer += len(trash)\n",
    "            change(board, trash)\n",
    "            sortNone(m, n, board)"
   ]
  }
 ],
 "metadata": {
  "kernelspec": {
   "display_name": "py_36",
   "language": "python",
   "name": "py_36"
  },
  "language_info": {
   "codemirror_mode": {
    "name": "ipython",
    "version": 3
   },
   "file_extension": ".py",
   "mimetype": "text/x-python",
   "name": "python",
   "nbconvert_exporter": "python",
   "pygments_lexer": "ipython3",
   "version": "3.6.10"
  }
 },
 "nbformat": 4,
 "nbformat_minor": 2
}
