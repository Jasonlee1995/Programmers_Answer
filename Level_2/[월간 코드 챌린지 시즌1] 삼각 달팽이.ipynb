{
 "cells": [
  {
   "cell_type": "markdown",
   "metadata": {},
   "source": [
    "## [월간 코드 챌린지 시즌1] 삼각 달팽이\n",
    "\n",
    "- 문제 링크 : <https://programmers.co.kr/learn/courses/30/lessons/68645>\n",
    "- 풀이 날짜 : 13 Oct 2020\n",
    "- 문제가 변경되어 풀이가 더이상 적용되지 않는다면 issue를 남겨주시면 됩니다\n",
    "- 본 풀이는 스스로 풀었기에 최적이 아닐 수 있음을 미리 알려드립니다"
   ]
  },
  {
   "cell_type": "code",
   "execution_count": null,
   "metadata": {},
   "outputs": [],
   "source": [
    "def solution(n):\n",
    "    answer = [0] * (n*(n+1)//2)\n",
    "    index, step = 0, 0\n",
    "    number = 1\n",
    "    while number <= (n*(n+1)//2):\n",
    "        while (index < len(answer)) and (answer[index] == 0):\n",
    "            answer[index] = number\n",
    "            step += 1\n",
    "            index += step\n",
    "            number += 1\n",
    "        index -= (step-1)\n",
    "        while (index < len(answer)) and (answer[index] == 0):\n",
    "            answer[index] = number\n",
    "            index += 1\n",
    "            number += 1\n",
    "        index -= (step+1)\n",
    "        while (index >= 0) and (answer[index] == 0):\n",
    "            answer[index] = number\n",
    "            step -= 1\n",
    "            index -= step\n",
    "            number += 1\n",
    "        index += 2*step\n",
    "    return answer"
   ]
  }
 ],
 "metadata": {
  "kernelspec": {
   "display_name": "py_36",
   "language": "python",
   "name": "py_36"
  },
  "language_info": {
   "codemirror_mode": {
    "name": "ipython",
    "version": 3
   },
   "file_extension": ".py",
   "mimetype": "text/x-python",
   "name": "python",
   "nbconvert_exporter": "python",
   "pygments_lexer": "ipython3",
   "version": "3.6.12"
  }
 },
 "nbformat": 4,
 "nbformat_minor": 2
}
