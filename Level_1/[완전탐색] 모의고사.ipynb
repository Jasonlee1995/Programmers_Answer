{
 "cells": [
  {
   "cell_type": "markdown",
   "metadata": {},
   "source": [
    "## [완전탐색] 모의고사\n",
    "\n",
    "- 문제 링크 : <https://programmers.co.kr/learn/courses/30/lessons/42840>\n",
    "- 풀이 날짜 : 15 Dec 2019\n",
    "- 문제가 변경되어 풀이가 더이상 적용되지 않는다면 issue를 남겨주시면 됩니다\n",
    "- 본 풀이는 스스로 풀었기에 최적이 아닐 수 있음을 미리 알려드립니다"
   ]
  },
  {
   "cell_type": "code",
   "execution_count": null,
   "metadata": {},
   "outputs": [],
   "source": [
    "def solution(answers):\n",
    "    patterns = [[1, 2, 3, 4, 5],\n",
    "                [2, 1, 2, 3, 2, 4, 2, 5],\n",
    "                [3, 3, 1, 1, 2, 2, 4, 4, 5, 5]]\n",
    "    players = [0] * len(patterns)\n",
    "    for i, answer in enumerate(answers):\n",
    "        for j, pattern in enumerate(patterns):\n",
    "            if pattern[i%len(pattern)] == answer:\n",
    "                players[j] += 1\n",
    "    answer = [i+1 for i, player in enumerate(players) if player==max(players)]\n",
    "    return answer"
   ]
  }
 ],
 "metadata": {
  "kernelspec": {
   "display_name": "py_36",
   "language": "python",
   "name": "py_36"
  },
  "language_info": {
   "codemirror_mode": {
    "name": "ipython",
    "version": 3
   },
   "file_extension": ".py",
   "mimetype": "text/x-python",
   "name": "python",
   "nbconvert_exporter": "python",
   "pygments_lexer": "ipython3",
   "version": "3.6.9"
  }
 },
 "nbformat": 4,
 "nbformat_minor": 2
}
