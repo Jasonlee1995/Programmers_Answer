{
 "cells": [
  {
   "cell_type": "markdown",
   "metadata": {},
   "source": [
    "## [2019 KAKAO BLIND RECRUITMENT] 실패율\n",
    "\n",
    "- 문제 링크 : <https://programmers.co.kr/learn/courses/30/lessons/42889>\n",
    "- 풀이 날짜 : 19 Jan 2020\n",
    "- 문제가 변경되어 풀이가 더이상 적용되지 않는다면 issue를 남겨주시면 됩니다\n",
    "- 본 풀이는 스스로 풀었기에 최적이 아닐 수 있음을 미리 알려드립니다"
   ]
  },
  {
   "cell_type": "code",
   "execution_count": null,
   "metadata": {},
   "outputs": [],
   "source": [
    "def solution(N, stages):\n",
    "    stage_info = {}\n",
    "    for stage in stages:\n",
    "        if stage not in stage_info: stage_info[stage] = 1\n",
    "        else: stage_info[stage] += 1\n",
    "    N_stage = {}\n",
    "    total = len(stages)\n",
    "    for i in range(1, N+1):\n",
    "        if i in stage_info and total > 0:\n",
    "            N_stage[i] = stage_info[i]/total\n",
    "            total -= stage_info[i]\n",
    "        else: N_stage[i] = 0\n",
    "    sorted_stage = sorted(N_stage.items(), key=lambda x: (-x[1], x[0]))\n",
    "    return [x[0] for x in sorted_stage]"
   ]
  }
 ],
 "metadata": {
  "kernelspec": {
   "display_name": "py_36",
   "language": "python",
   "name": "py_36"
  },
  "language_info": {
   "codemirror_mode": {
    "name": "ipython",
    "version": 3
   },
   "file_extension": ".py",
   "mimetype": "text/x-python",
   "name": "python",
   "nbconvert_exporter": "python",
   "pygments_lexer": "ipython3",
   "version": "3.6.9"
  }
 },
 "nbformat": 4,
 "nbformat_minor": 2
}
