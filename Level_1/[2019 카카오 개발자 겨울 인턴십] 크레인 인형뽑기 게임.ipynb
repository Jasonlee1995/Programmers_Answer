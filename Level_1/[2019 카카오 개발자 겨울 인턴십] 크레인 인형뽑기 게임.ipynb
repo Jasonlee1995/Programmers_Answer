{
 "cells": [
  {
   "cell_type": "markdown",
   "metadata": {},
   "source": [
    "## [2019 카카오 개발자 겨울 인턴십] 크레인 인형뽑기 게임\n",
    "\n",
    "- 문제 링크 : <https://programmers.co.kr/learn/courses/30/lessons/64061>\n",
    "- 풀이 날짜 : 6 Apr 2020\n",
    "- 문제가 변경되어 풀이가 더이상 적용되지 않는다면 issue를 남겨주시면 됩니다\n",
    "- 본 풀이는 스스로 풀었기에 최적이 아닐 수 있음을 미리 알려드립니다"
   ]
  },
  {
   "cell_type": "code",
   "execution_count": null,
   "metadata": {},
   "outputs": [],
   "source": [
    "def solution(board, moves):\n",
    "    answer, stack = 0, list()\n",
    "    for move in moves:\n",
    "        for i in range(len(board)):\n",
    "            if board[i][move-1] != 0:\n",
    "                if (len(stack) == 0) or (stack[-1] != board[i][move-1]):\n",
    "                    stack.append(board[i][move-1])\n",
    "                else:\n",
    "                    answer += 2\n",
    "                    stack.pop()\n",
    "                board[i][move-1] = 0\n",
    "                break\n",
    "    return answer"
   ]
  }
 ],
 "metadata": {
  "kernelspec": {
   "display_name": "py_36",
   "language": "python",
   "name": "py_36"
  },
  "language_info": {
   "codemirror_mode": {
    "name": "ipython",
    "version": 3
   },
   "file_extension": ".py",
   "mimetype": "text/x-python",
   "name": "python",
   "nbconvert_exporter": "python",
   "pygments_lexer": "ipython3",
   "version": "3.6.10"
  }
 },
 "nbformat": 4,
 "nbformat_minor": 2
}
