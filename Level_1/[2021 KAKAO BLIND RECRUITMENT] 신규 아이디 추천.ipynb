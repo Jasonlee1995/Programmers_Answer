{
 "cells": [
  {
   "cell_type": "markdown",
   "metadata": {},
   "source": [
    "## [2021 KAKAO BLIND RECRUITMENT] 신규 아이디 추천\n",
    "\n",
    "- 문제 링크 : <https://programmers.co.kr/learn/courses/30/lessons/72410>\n",
    "- 풀이 날짜 : 2 Feb 2021\n",
    "- 문제가 변경되어 풀이가 더이상 적용되지 않는다면 issue를 남겨주시면 됩니다\n",
    "- 본 풀이는 스스로 풀었기에 최적이 아닐 수 있음을 미리 알려드립니다"
   ]
  },
  {
   "cell_type": "code",
   "execution_count": null,
   "metadata": {},
   "outputs": [],
   "source": [
    "import re\n",
    "\n",
    "def solution(new_id):\n",
    "    new_id = new_id.lower()\n",
    "    new_id = re.sub('[^a-z0-9\\-_.]', '', new_id)\n",
    "    new_id = re.sub('\\.+', '.', new_id)\n",
    "    new_id = re.sub('^[.]|[.]$', '', new_id)\n",
    "    new_id = 'a' if len(new_id) == 0 else new_id[:15]\n",
    "    new_id = re.sub('^[.]|[.]$', '', new_id)\n",
    "    return new_id if len(new_id) > 2 else new_id + new_id[-1]*(3-len(new_id))"
   ]
  }
 ],
 "metadata": {
  "kernelspec": {
   "display_name": "py_36",
   "language": "python",
   "name": "py_36"
  },
  "language_info": {
   "codemirror_mode": {
    "name": "ipython",
    "version": 3
   },
   "file_extension": ".py",
   "mimetype": "text/x-python",
   "name": "python",
   "nbconvert_exporter": "python",
   "pygments_lexer": "ipython3",
   "version": "3.6.12"
  }
 },
 "nbformat": 4,
 "nbformat_minor": 2
}
