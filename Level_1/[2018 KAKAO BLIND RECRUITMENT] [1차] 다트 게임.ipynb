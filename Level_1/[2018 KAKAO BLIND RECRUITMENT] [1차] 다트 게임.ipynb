{
 "cells": [
  {
   "cell_type": "markdown",
   "metadata": {},
   "source": [
    "## [2018 KAKAO BLIND RECRUITMENT] [1차] 다트 게임\n",
    "\n",
    "- 문제 링크 : <https://programmers.co.kr/learn/courses/30/lessons/17682>\n",
    "- 풀이 날짜 : 20 Dec 2020\n",
    "- 문제가 변경되어 풀이가 더이상 적용되지 않는다면 issue를 남겨주시면 됩니다\n",
    "- 본 풀이는 스스로 풀었기에 최적이 아닐 수 있음을 미리 알려드립니다"
   ]
  },
  {
   "cell_type": "code",
   "execution_count": null,
   "metadata": {},
   "outputs": [],
   "source": [
    "def solution(dartResult):\n",
    "    dart_result = dartResult.replace('10', 'a')\n",
    "    num = list(map(str, range(0, 10))) + ['a']\n",
    "    bonus = {'S':1, 'D':2, 'T':3}\n",
    "    opt = ['*', '#']\n",
    "    score = []\n",
    "    for i in range(len(dart_result)):\n",
    "        if dart_result[i] in num:\n",
    "            if dart_result[i] == 'a': score.append(10)\n",
    "            else: score.append(int(dart_result[i]))\n",
    "        elif dart_result[i] in bonus:\n",
    "            score[-1] = score[-1]**bonus[dart_result[i]]\n",
    "        elif dart_result[i] in opt:\n",
    "            if dart_result[i] == '*':\n",
    "                if len(score) == 1: score[-1] = 2*score[-1]\n",
    "                else: score[-2], score[-1] = 2*score[-2], 2*score[-1]\n",
    "            elif dart_result[i] == '#':\n",
    "                score[-1] = -score[-1]\n",
    "    answer = sum(score)\n",
    "    return answer"
   ]
  }
 ],
 "metadata": {
  "kernelspec": {
   "display_name": "py_36",
   "language": "python",
   "name": "py_36"
  },
  "language_info": {
   "codemirror_mode": {
    "name": "ipython",
    "version": 3
   },
   "file_extension": ".py",
   "mimetype": "text/x-python",
   "name": "python",
   "nbconvert_exporter": "python",
   "pygments_lexer": "ipython3",
   "version": "3.6.9"
  }
 },
 "nbformat": 4,
 "nbformat_minor": 2
}
