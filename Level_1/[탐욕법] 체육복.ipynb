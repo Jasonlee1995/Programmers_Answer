{
 "cells": [
  {
   "cell_type": "markdown",
   "metadata": {},
   "source": [
    "## [탐욕법] 체육복\n",
    "\n",
    "- 문제 링크 : <https://programmers.co.kr/learn/courses/30/lessons/42862>\n",
    "- 풀이 날짜 : 17 Dec 2019\n",
    "- 문제가 변경되어 풀이가 더이상 적용되지 않는다면 issue를 남겨주시면 됩니다\n",
    "- 본 풀이는 스스로 풀었기에 최적이 아닐 수 있음을 미리 알려드립니다"
   ]
  },
  {
   "cell_type": "code",
   "execution_count": null,
   "metadata": {},
   "outputs": [],
   "source": [
    "def solution(n, lost, reserve):\n",
    "    i, j = 0, 0\n",
    "    lost, reserve = sorted(list(set(lost)-set(reserve))), sorted(list(set(reserve)-set(lost)))\n",
    "    answer = n-len(lost)\n",
    "    while i < len(lost) and j < len(reserve):\n",
    "        if lost[i] < reserve[j]-1: i += 1\n",
    "        elif lost[i] > reserve[j]+1: j += 1\n",
    "        else: answer, i, j = answer+1, i+1, j+1\n",
    "    return answer"
   ]
  }
 ],
 "metadata": {
  "kernelspec": {
   "display_name": "py_36",
   "language": "python",
   "name": "py_36"
  },
  "language_info": {
   "codemirror_mode": {
    "name": "ipython",
    "version": 3
   },
   "file_extension": ".py",
   "mimetype": "text/x-python",
   "name": "python",
   "nbconvert_exporter": "python",
   "pygments_lexer": "ipython3",
   "version": "3.6.9"
  }
 },
 "nbformat": 4,
 "nbformat_minor": 2
}
