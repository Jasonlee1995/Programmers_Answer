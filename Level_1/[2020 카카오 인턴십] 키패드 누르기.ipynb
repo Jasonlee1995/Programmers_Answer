{
 "cells": [
  {
   "cell_type": "markdown",
   "metadata": {},
   "source": [
    "## [2020 카카오 인턴십] 키패드 누르기\n",
    "\n",
    "- 문제 링크 : <https://programmers.co.kr/learn/courses/30/lessons/67256>\n",
    "- 풀이 날짜 : 1 Jul 2020\n",
    "- 문제가 변경되어 풀이가 더이상 적용되지 않는다면 issue를 남겨주시면 됩니다\n",
    "- 본 풀이는 스스로 풀었기에 최적이 아닐 수 있음을 미리 알려드립니다"
   ]
  },
  {
   "cell_type": "code",
   "execution_count": null,
   "metadata": {},
   "outputs": [],
   "source": [
    "def distance(hand, number):\n",
    "    keypad = [[1, 2, 3], [4, 5, 6], [7, 8, 9], ['*', 0, '#']]\n",
    "    hand_coord, num_coord = None, None\n",
    "    for i in range(len(keypad)):\n",
    "        for j in range(len(keypad[0])):\n",
    "            if keypad[i][j] == hand:\n",
    "                hand_coord = (i, j)\n",
    "            if keypad[i][j] == number:\n",
    "                num_coord = (i, j)\n",
    "    return abs(hand_coord[0]-num_coord[0]) + abs(hand_coord[1]-num_coord[1])\n",
    "\n",
    "def solution(numbers, hand):\n",
    "    left, right = '*', '#'\n",
    "    answer = ''\n",
    "    for number in numbers:\n",
    "        if number in [1, 4, 7]:\n",
    "            answer += 'L'\n",
    "            left = number\n",
    "        elif number in [3, 6, 9]:\n",
    "            answer += 'R'\n",
    "            right = number\n",
    "        else:\n",
    "            left_d, right_d = distance(left, number), distance(right, number)\n",
    "            if (left_d < right_d) or ((left_d == right_d) and (hand == 'left')):\n",
    "                answer += 'L'\n",
    "                left = number\n",
    "            elif (left_d > right_d) or ((left_d == right_d) and (hand == 'right')):\n",
    "                answer += 'R'\n",
    "                right = number\n",
    "    return answer"
   ]
  }
 ],
 "metadata": {
  "kernelspec": {
   "display_name": "py_36",
   "language": "python",
   "name": "py_36"
  },
  "language_info": {
   "codemirror_mode": {
    "name": "ipython",
    "version": 3
   },
   "file_extension": ".py",
   "mimetype": "text/x-python",
   "name": "python",
   "nbconvert_exporter": "python",
   "pygments_lexer": "ipython3",
   "version": "3.6.10"
  }
 },
 "nbformat": 4,
 "nbformat_minor": 2
}
