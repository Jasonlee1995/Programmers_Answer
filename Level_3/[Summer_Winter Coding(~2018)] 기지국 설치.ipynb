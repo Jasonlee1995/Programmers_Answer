{
 "cells": [
  {
   "cell_type": "markdown",
   "metadata": {},
   "source": [
    "## [Summer_Winter Coding(~2018)] 기지국 설치\n",
    "\n",
    "- 문제 링크 : <https://programmers.co.kr/learn/courses/30/lessons/12979>\n",
    "- 풀이 날짜 : 14 May 2020\n",
    "- 문제가 변경되어 풀이가 더이상 적용되지 않는다면 issue를 남겨주시면 됩니다\n",
    "- 본 풀이는 스스로 풀었기에 최적이 아닐 수 있음을 미리 알려드립니다"
   ]
  },
  {
   "cell_type": "code",
   "execution_count": null,
   "metadata": {},
   "outputs": [],
   "source": [
    "def solution(n, stations, w):\n",
    "    answer = 0\n",
    "    if stations[0]-w-1 > 0: answer += 1+((stations[0]-w-1)-1)//(2*w+1)\n",
    "    for i in range(1, len(stations)):\n",
    "        if (stations[i]-w-1)-(stations[i-1]+w+1)+1 > 0:\n",
    "            answer += 1+((stations[i]-w-1)-(stations[i-1]+w+1))//(2*w+1)\n",
    "    if n-(stations[-1]+w+1)+1 > 0: answer += 1+(n-(stations[-1]+w+1))//(2*w+1)\n",
    "    return answer"
   ]
  }
 ],
 "metadata": {
  "kernelspec": {
   "display_name": "py_36",
   "language": "python",
   "name": "py_36"
  },
  "language_info": {
   "codemirror_mode": {
    "name": "ipython",
    "version": 3
   },
   "file_extension": ".py",
   "mimetype": "text/x-python",
   "name": "python",
   "nbconvert_exporter": "python",
   "pygments_lexer": "ipython3",
   "version": "3.6.10"
  }
 },
 "nbformat": 4,
 "nbformat_minor": 2
}
