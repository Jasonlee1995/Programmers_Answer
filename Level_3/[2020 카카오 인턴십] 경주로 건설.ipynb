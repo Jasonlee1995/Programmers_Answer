{
 "cells": [
  {
   "cell_type": "markdown",
   "metadata": {},
   "source": [
    "## [2020 카카오 인턴십] 경주로 건설\n",
    "\n",
    "- 문제 링크 : <https://programmers.co.kr/learn/courses/30/lessons/67259>\n",
    "- 풀이 날짜 : 8 Jul 2020\n",
    "- 문제가 변경되어 풀이가 더이상 적용되지 않는다면 issue를 남겨주시면 됩니다\n",
    "- 본 풀이는 스스로 풀었기에 최적이 아닐 수 있음을 미리 알려드립니다"
   ]
  },
  {
   "cell_type": "code",
   "execution_count": null,
   "metadata": {},
   "outputs": [],
   "source": [
    "import collections\n",
    "\n",
    "def solution(board):\n",
    "    N = len(board)\n",
    "    matrix = [[None]*N for _ in range(N)]\n",
    "    matrix[0][0] = 0\n",
    "    deque = collections.deque([[(0, 0), (1, 0)], [(0, 0), (-1, 0)], [(0, 0), (0, 1)], [(0, 0), (0, -1)]])\n",
    "    while deque:\n",
    "        (x, y), (dx, dy) = deque.popleft()\n",
    "        dir_list = [(1, 0), (-1, 0), (0, 1), (0, -1)]\n",
    "        dir_list.remove((dx, dy))\n",
    "        if (0 <= x+dx < N) and (0 <= y+dy < N) and (board[x+dx][y+dy] == 0):\n",
    "            if (matrix[x+dx][y+dy] == None) or (matrix[x][y]+100 <= matrix[x+dx][y+dy]):\n",
    "                matrix[x+dx][y+dy] = matrix[x][y]+100\n",
    "                deque.append([(x+dx, y+dy), (dx, dy)])\n",
    "        for dx, dy in dir_list:\n",
    "            if (0 <= x+dx < N) and (0 <= y+dy < N) and (board[x+dx][y+dy] == 0):\n",
    "                if (matrix[x+dx][y+dy] == None) or (matrix[x][y]+600 <= matrix[x+dx][y+dy]):\n",
    "                    matrix[x+dx][y+dy] = matrix[x][y]+600\n",
    "                    deque.append([(x+dx, y+dy), (dx, dy)])\n",
    "    return matrix[-1][-1]"
   ]
  }
 ],
 "metadata": {
  "kernelspec": {
   "display_name": "py_36",
   "language": "python",
   "name": "py_36"
  },
  "language_info": {
   "codemirror_mode": {
    "name": "ipython",
    "version": 3
   },
   "file_extension": ".py",
   "mimetype": "text/x-python",
   "name": "python",
   "nbconvert_exporter": "python",
   "pygments_lexer": "ipython3",
   "version": "3.6.10"
  }
 },
 "nbformat": 4,
 "nbformat_minor": 2
}
