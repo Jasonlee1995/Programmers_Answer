{
 "cells": [
  {
   "cell_type": "markdown",
   "metadata": {},
   "source": [
    "## [Summer_Winter Coding(~2018)] 배달\n",
    "\n",
    "- 문제 링크 : <https://programmers.co.kr/learn/courses/30/lessons/12978>\n",
    "- 풀이 날짜 : 13 May 2020\n",
    "- 문제가 변경되어 풀이가 더이상 적용되지 않는다면 issue를 남겨주시면 됩니다\n",
    "- 본 풀이는 스스로 풀었기에 최적이 아닐 수 있음을 미리 알려드립니다"
   ]
  },
  {
   "cell_type": "code",
   "execution_count": null,
   "metadata": {},
   "outputs": [],
   "source": [
    "import collections\n",
    "\n",
    "def solution(N, road, K):\n",
    "    matrix = [[None]*N for _ in range(N)]\n",
    "    for node1, node2, cost in road:\n",
    "        if matrix[node1-1][node2-1] != None:\n",
    "            matrix[node1-1][node2-1] = min(cost, matrix[node1-1][node2-1])\n",
    "            matrix[node2-1][node1-1] = min(cost, matrix[node2-1][node1-1])\n",
    "        else:\n",
    "            matrix[node1-1][node2-1] = cost\n",
    "            matrix[node2-1][node1-1] = cost\n",
    "            \n",
    "    deque = collections.deque([0])\n",
    "    cost = [0]+[None]*(N-1)\n",
    "    while deque:\n",
    "        node = deque.popleft()\n",
    "        for i in range(N):\n",
    "            if matrix[node][i] != None:\n",
    "                if (cost[i] == None) or (cost[node]+matrix[node][i] <= cost[i]):\n",
    "                    deque.append(i)\n",
    "                    cost[i] = cost[node]+matrix[node][i]\n",
    "                        \n",
    "    answer = sum(1 for i in range(N) if (cost[i] != None) and (cost[i] <= K))\n",
    "    return answer"
   ]
  }
 ],
 "metadata": {
  "kernelspec": {
   "display_name": "py_36",
   "language": "python",
   "name": "py_36"
  },
  "language_info": {
   "codemirror_mode": {
    "name": "ipython",
    "version": 3
   },
   "file_extension": ".py",
   "mimetype": "text/x-python",
   "name": "python",
   "nbconvert_exporter": "python",
   "pygments_lexer": "ipython3",
   "version": "3.6.10"
  }
 },
 "nbformat": 4,
 "nbformat_minor": 2
}
