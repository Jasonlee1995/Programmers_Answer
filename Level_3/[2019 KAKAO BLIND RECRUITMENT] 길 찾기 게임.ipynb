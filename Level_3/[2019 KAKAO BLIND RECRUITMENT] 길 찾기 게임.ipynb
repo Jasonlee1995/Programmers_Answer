{
 "cells": [
  {
   "cell_type": "markdown",
   "metadata": {},
   "source": [
    "## [2019 KAKAO BLIND RECRUITMENT] 길 찾기 게임\n",
    "\n",
    "- 문제 링크 : <https://programmers.co.kr/learn/courses/30/lessons/42892>\n",
    "- 풀이 날짜 : 31 May 2020\n",
    "- 문제가 변경되어 풀이가 더이상 적용되지 않는다면 issue를 남겨주시면 됩니다\n",
    "- 본 풀이는 스스로 풀었기에 최적이 아닐 수 있음을 미리 알려드립니다"
   ]
  },
  {
   "cell_type": "code",
   "execution_count": null,
   "metadata": {},
   "outputs": [],
   "source": [
    "from sys import setrecursionlimit\n",
    "setrecursionlimit(10**6)\n",
    "\n",
    "class Node():\n",
    "    def __init__(self, val, x):\n",
    "        self.val = val\n",
    "        self.x = x\n",
    "        self.left = None\n",
    "        self.right = None\n",
    "\n",
    "\n",
    "class Graph():\n",
    "    def __init__(self, coord2node):\n",
    "        self.root = None\n",
    "        self.coord2node = coord2node\n",
    "        \n",
    "    def add(self, node, add_node):\n",
    "        if add_node.x < node.x:\n",
    "            if node.left == None: node.left = add_node\n",
    "            else: return self.add(node.left, add_node)\n",
    "        else:\n",
    "            if node.right == None: node.right = add_node\n",
    "            else: return self.add(node.right, add_node)\n",
    "    \n",
    "    def build(self, coords):\n",
    "        for coord in coords:\n",
    "            if not self.root: self.root = tuple(coord)\n",
    "            else: self.add(self.coord2node[self.root], self.coord2node[tuple(coord)])    \n",
    "        \n",
    "\n",
    "def preorder(node):\n",
    "    if node: return [node.val] + preorder(node.left) + preorder(node.right)\n",
    "    else: return []\n",
    "\n",
    "    \n",
    "def postorder(node):\n",
    "    if node: return [node.val] + postorder(node.right) + postorder(node.left)\n",
    "    else: return []\n",
    "\n",
    "    \n",
    "def solution(nodeinfo):\n",
    "    graph = Graph({(x, y):Node(i+1, x) for i, (x, y) in enumerate(nodeinfo)})\n",
    "    graph.build(sorted(nodeinfo, key=lambda x:(-x[1],x[0])))\n",
    "    root_node = graph.coord2node[graph.root]\n",
    "    return [preorder(root_node), postorder(root_node)[::-1]]"
   ]
  }
 ],
 "metadata": {
  "kernelspec": {
   "display_name": "py_36",
   "language": "python",
   "name": "py_36"
  },
  "language_info": {
   "codemirror_mode": {
    "name": "ipython",
    "version": 3
   },
   "file_extension": ".py",
   "mimetype": "text/x-python",
   "name": "python",
   "nbconvert_exporter": "python",
   "pygments_lexer": "ipython3",
   "version": "3.6.10"
  }
 },
 "nbformat": 4,
 "nbformat_minor": 2
}
