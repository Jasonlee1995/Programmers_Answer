{
 "cells": [
  {
   "cell_type": "markdown",
   "metadata": {},
   "source": [
    "## [2018 KAKAO BLIND RECRUITMENT] [1차] 셔틀버스\n",
    "\n",
    "- 문제 링크 : <https://programmers.co.kr/learn/courses/30/lessons/17678>\n",
    "- 풀이 날짜 : 18 May 2020\n",
    "- 문제가 변경되어 풀이가 더이상 적용되지 않는다면 issue를 남겨주시면 됩니다\n",
    "- 본 풀이는 스스로 풀었기에 최적이 아닐 수 있음을 미리 알려드립니다"
   ]
  },
  {
   "cell_type": "code",
   "execution_count": null,
   "metadata": {},
   "outputs": [],
   "source": [
    "def solution(n, t, m, timetable):\n",
    "    arrive = list()\n",
    "    for time in timetable:\n",
    "        hour, minute =  map(int, time.split(':'))\n",
    "        arrive.append(60*hour + minute)\n",
    "    arrive.sort(reverse=True)\n",
    "    for i in range(n):\n",
    "        time = 60*9 + i*t\n",
    "        if i == n-1:\n",
    "            if len(arrive[-m:]) == m:\n",
    "                time = min(time, arrive[-m:][0]-1)\n",
    "            hour, minute = str(time//60), str(time%60)\n",
    "            return '0'*(2-len(hour)) + hour + ':' + '0'*(2-len(minute)) + minute\n",
    "        else:\n",
    "            for j in range(m):\n",
    "                if (len(arrive) > 0) and (arrive[-1] <= time): arrive.pop()\n",
    "                else: break"
   ]
  }
 ],
 "metadata": {
  "kernelspec": {
   "display_name": "py_36",
   "language": "python",
   "name": "py_36"
  },
  "language_info": {
   "codemirror_mode": {
    "name": "ipython",
    "version": 3
   },
   "file_extension": ".py",
   "mimetype": "text/x-python",
   "name": "python",
   "nbconvert_exporter": "python",
   "pygments_lexer": "ipython3",
   "version": "3.6.10"
  }
 },
 "nbformat": 4,
 "nbformat_minor": 2
}
