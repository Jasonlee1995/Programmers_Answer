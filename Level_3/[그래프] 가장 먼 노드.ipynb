{
 "cells": [
  {
   "cell_type": "markdown",
   "metadata": {},
   "source": [
    "## [그래프] 가장 먼 노드\n",
    "\n",
    "- 문제 링크 : <https://programmers.co.kr/learn/courses/30/lessons/49189>\n",
    "- 풀이 날짜 : 20 Mar 2020\n",
    "- 문제가 변경되어 풀이가 더이상 적용되지 않는다면 issue를 남겨주시면 됩니다\n",
    "- 본 풀이는 스스로 풀었기에 최적이 아닐 수 있음을 미리 알려드립니다"
   ]
  },
  {
   "cell_type": "code",
   "execution_count": null,
   "metadata": {},
   "outputs": [],
   "source": [
    "import collections\n",
    "\n",
    "class Node():\n",
    "    def __init__(self, number):\n",
    "        self.number = number\n",
    "        self.count = None\n",
    "        self.neighbors = list()\n",
    "\n",
    "def solution(n, edge):\n",
    "    dic = dict()\n",
    "    for num1, num2 in edge:\n",
    "        if num1 not in dic: dic[num1] = Node(num1)\n",
    "        if num2 not in dic: dic[num2] = Node(num2)\n",
    "        dic[num1].neighbors.append(dic[num2])\n",
    "        dic[num2].neighbors.append(dic[num1])\n",
    "    dic[1].count = 1\n",
    "    deque = collections.deque([dic[1]])\n",
    "    while deque:\n",
    "        node = deque.popleft()\n",
    "        temp_set = set()\n",
    "        for neighbor in node.neighbors:\n",
    "            if (neighbor.count == None) or (neighbor.count > node.count+1):\n",
    "                neighbor.count = node.count+1\n",
    "                temp_set.add(neighbor)\n",
    "        deque += list(temp_set)\n",
    "    max_number, answer = 0, 1\n",
    "    for i in range(1, n+1):\n",
    "        if max_number < dic[i].count: max_number, answer = dic[i].count, 1\n",
    "        elif max_number == dic[i].count: answer += 1\n",
    "    return answer"
   ]
  }
 ],
 "metadata": {
  "kernelspec": {
   "display_name": "py_36",
   "language": "python",
   "name": "py_36"
  },
  "language_info": {
   "codemirror_mode": {
    "name": "ipython",
    "version": 3
   },
   "file_extension": ".py",
   "mimetype": "text/x-python",
   "name": "python",
   "nbconvert_exporter": "python",
   "pygments_lexer": "ipython3",
   "version": "3.6.10"
  }
 },
 "nbformat": 4,
 "nbformat_minor": 2
}
