{
 "cells": [
  {
   "cell_type": "markdown",
   "metadata": {},
   "source": [
    "## [월간 코드 챌린지 시즌1] 스타 수열\n",
    "\n",
    "- 문제 링크 : <https://programmers.co.kr/learn/courses/30/lessons/70130>\n",
    "- 풀이 날짜 : 22 Nov 2020\n",
    "- 문제가 변경되어 풀이가 더이상 적용되지 않는다면 issue를 남겨주시면 됩니다\n",
    "- 본 풀이는 스스로 풀었기에 최적이 아닐 수 있음을 미리 알려드립니다"
   ]
  },
  {
   "cell_type": "code",
   "execution_count": null,
   "metadata": {},
   "outputs": [],
   "source": [
    "import collections\n",
    "\n",
    "def solution(a):\n",
    "    answer = 0\n",
    "    for number, count in collections.Counter(a).most_common():\n",
    "        if 2*count <= answer: break\n",
    "        stack = []\n",
    "        for i in range(len(a)):\n",
    "            if a[i] == number:\n",
    "                if (i-1 >= 0) and (a[i-1] != a[i]) and ((len(stack) == 0) or (stack[-1] != i-1)):\n",
    "                    stack += [i-1, i]\n",
    "                elif (i+1 < len(a)) and (a[i] != a[i+1]):\n",
    "                    stack += [i, i+1]\n",
    "        answer = max(answer, len(stack))\n",
    "    return answer"
   ]
  }
 ],
 "metadata": {
  "kernelspec": {
   "display_name": "py_36",
   "language": "python",
   "name": "py_36"
  },
  "language_info": {
   "codemirror_mode": {
    "name": "ipython",
    "version": 3
   },
   "file_extension": ".py",
   "mimetype": "text/x-python",
   "name": "python",
   "nbconvert_exporter": "python",
   "pygments_lexer": "ipython3",
   "version": "3.6.12"
  }
 },
 "nbformat": 4,
 "nbformat_minor": 2
}
