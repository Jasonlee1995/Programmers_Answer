{
 "cells": [
  {
   "cell_type": "markdown",
   "metadata": {},
   "source": [
    "## [힙] 디스크 컨트롤러\n",
    "\n",
    "- 문제 링크 : <https://programmers.co.kr/learn/courses/30/lessons/42627>\n",
    "- 풀이 날짜 : 19 Mar 2020\n",
    "- 문제가 변경되어 풀이가 더이상 적용되지 않는다면 issue를 남겨주시면 됩니다\n",
    "- 본 풀이는 스스로 풀었기에 최적이 아닐 수 있음을 미리 알려드립니다"
   ]
  },
  {
   "cell_type": "code",
   "execution_count": null,
   "metadata": {},
   "outputs": [],
   "source": [
    "import heapq\n",
    "\n",
    "def solution(jobs):\n",
    "    answer, clock, stack = 0, 0, list()\n",
    "    jobs.sort()\n",
    "    heapq.heapify(stack)\n",
    "    for start, time in jobs:\n",
    "        if (clock <= start) and (len(stack) == 0):\n",
    "            answer, clock = answer+time, start+time\n",
    "        else:\n",
    "            while (clock < start) and (len(stack) > 0):\n",
    "                temp_time, temp_start = heapq.heappop(stack)\n",
    "                answer, clock = answer+(clock-temp_start)+temp_time, clock+temp_time\n",
    "            heapq.heappush(stack, (time, start))\n",
    "    while stack:\n",
    "        temp_time, temp_start = heapq.heappop(stack)\n",
    "        answer, clock = answer+(clock-temp_start)+temp_time, clock+temp_time\n",
    "    return answer // len(jobs)"
   ]
  }
 ],
 "metadata": {
  "kernelspec": {
   "display_name": "py_36",
   "language": "python",
   "name": "py_36"
  },
  "language_info": {
   "codemirror_mode": {
    "name": "ipython",
    "version": 3
   },
   "file_extension": ".py",
   "mimetype": "text/x-python",
   "name": "python",
   "nbconvert_exporter": "python",
   "pygments_lexer": "ipython3",
   "version": "3.6.10"
  }
 },
 "nbformat": 4,
 "nbformat_minor": 2
}
