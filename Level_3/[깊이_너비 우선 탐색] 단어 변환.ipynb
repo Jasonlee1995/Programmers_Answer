{
 "cells": [
  {
   "cell_type": "markdown",
   "metadata": {},
   "source": [
    "## [깊이_너비 우선 탐색] 단어 변환\n",
    "\n",
    "- 문제 링크 : <https://programmers.co.kr/learn/courses/30/lessons/43163>\n",
    "- 풀이 날짜 : 25 Mar 2020\n",
    "- 문제가 변경되어 풀이가 더이상 적용되지 않는다면 issue를 남겨주시면 됩니다\n",
    "- 본 풀이는 스스로 풀었기에 최적이 아닐 수 있음을 미리 알려드립니다"
   ]
  },
  {
   "cell_type": "code",
   "execution_count": null,
   "metadata": {},
   "outputs": [],
   "source": [
    "import collections\n",
    "\n",
    "def same(begin, word):\n",
    "    same_num = sum(begin[i] == word[i] for i in range(len(word)))\n",
    "    return same_num\n",
    "\n",
    "def solution(begin, target, words):\n",
    "    deque = collections.deque([(begin, 0)])\n",
    "    passed = list()\n",
    "    while deque:\n",
    "        candidate, count = deque.popleft()\n",
    "        if candidate == target:\n",
    "            return count\n",
    "        for word in words:\n",
    "            if (word not in passed) and (same(candidate, word) == len(word)-1):\n",
    "                deque.append((word, count+1))\n",
    "                passed.append(word)\n",
    "    return 0"
   ]
  }
 ],
 "metadata": {
  "kernelspec": {
   "display_name": "py_36",
   "language": "python",
   "name": "py_36"
  },
  "language_info": {
   "codemirror_mode": {
    "name": "ipython",
    "version": 3
   },
   "file_extension": ".py",
   "mimetype": "text/x-python",
   "name": "python",
   "nbconvert_exporter": "python",
   "pygments_lexer": "ipython3",
   "version": "3.6.10"
  }
 },
 "nbformat": 4,
 "nbformat_minor": 2
}
