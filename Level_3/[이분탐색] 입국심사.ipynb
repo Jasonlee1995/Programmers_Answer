{
 "cells": [
  {
   "cell_type": "markdown",
   "metadata": {},
   "source": [
    "## [이분탐색] 입국심사\n",
    "\n",
    "- 문제 링크 : <https://programmers.co.kr/learn/courses/30/lessons/43238>\n",
    "- 풀이 날짜 : 28 Mar 2020\n",
    "- 문제가 변경되어 풀이가 더이상 적용되지 않는다면 issue를 남겨주시면 됩니다\n",
    "- 본 풀이는 스스로 풀었기에 최적이 아닐 수 있음을 미리 알려드립니다"
   ]
  },
  {
   "cell_type": "code",
   "execution_count": null,
   "metadata": {},
   "outputs": [],
   "source": [
    "def solution(n, times):\n",
    "    time_range = [(0, 0), (n*max(times)//len(times)+1, n)]\n",
    "    while time_range[1][0]-time_range[0][0] > 1:\n",
    "        mid = (time_range[0][0]+time_range[1][0])//2\n",
    "        people = sum(mid//time for time in times)\n",
    "        if people >= n: time_range[1] = (mid, people)\n",
    "        else: time_range[0] = (mid, people)\n",
    "    if time_range[0][1] >= n: return time_range[0][0]\n",
    "    else: return time_range[1][0]"
   ]
  }
 ],
 "metadata": {
  "kernelspec": {
   "display_name": "py_36",
   "language": "python",
   "name": "py_36"
  },
  "language_info": {
   "codemirror_mode": {
    "name": "ipython",
    "version": 3
   },
   "file_extension": ".py",
   "mimetype": "text/x-python",
   "name": "python",
   "nbconvert_exporter": "python",
   "pygments_lexer": "ipython3",
   "version": "3.6.10"
  }
 },
 "nbformat": 4,
 "nbformat_minor": 2
}
