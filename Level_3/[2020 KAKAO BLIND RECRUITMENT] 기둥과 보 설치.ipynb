{
 "cells": [
  {
   "cell_type": "markdown",
   "metadata": {},
   "source": [
    "## [2020 KAKAO BLIND RECRUITMENT] 기둥과 보 설치\n",
    "\n",
    "- 문제 링크 : <https://programmers.co.kr/learn/courses/30/lessons/60061>\n",
    "- 풀이 날짜 : 11 Apr 2020\n",
    "- 문제가 변경되어 풀이가 더이상 적용되지 않는다면 issue를 남겨주시면 됩니다\n",
    "- 본 풀이는 스스로 풀었기에 최적이 아닐 수 있음을 미리 알려드립니다"
   ]
  },
  {
   "cell_type": "code",
   "execution_count": null,
   "metadata": {},
   "outputs": [],
   "source": [
    "# One-shot\n",
    "\n",
    "def check(answer):\n",
    "    for x, y, a in answer:\n",
    "        if a == 0:\n",
    "            if ((y != 0) and ([x, y-1, 0] not in answer) \n",
    "                and ([x-1, y, 1] not in answer) and ([x, y, 1] not in answer)):\n",
    "                return False\n",
    "        else:\n",
    "            if (([x, y-1, 0] not in answer) and ([x+1, y-1, 0] not in answer) \n",
    "                and (([x-1, y, 1] not in answer) or ([x+1, y, 1] not in answer))):\n",
    "                return False\n",
    "    return True\n",
    "\n",
    "def solution(n, build_frame):\n",
    "    answer = list()\n",
    "    for x, y, a, b in build_frame:\n",
    "        temp_answer = answer.copy()\n",
    "        if b == 0: temp_answer.remove([x, y, a])\n",
    "        else: temp_answer.append([x, y, a])\n",
    "\n",
    "        if check(temp_answer): answer = temp_answer\n",
    "    return sorted(answer)"
   ]
  },
  {
   "cell_type": "code",
   "execution_count": null,
   "metadata": {},
   "outputs": [],
   "source": [
    "# Case-by-case\n",
    "\n",
    "def solution(n, build_frame):\n",
    "    answer = list()\n",
    "    for x, y, a, b in build_frame:\n",
    "        if b == 1:\n",
    "            if a == 0:\n",
    "                left, down, right = [x-1, y, 1] in answer, [x, y-1, 0] in answer, [x, y, 1] in answer\n",
    "                if (y == 0) or left or down or right:\n",
    "                    answer.append([x, y, a])\n",
    "            else:\n",
    "                down_left, down_right = [x, y-1, 0] in answer, [x+1, y-1, 0] in answer\n",
    "                left, right = [x-1, y, 1] in answer, [x+1, y, 1] in answer\n",
    "                if down_left or down_right or (left and right):\n",
    "                    answer.append([x, y, a])\n",
    "        else:\n",
    "            if a == 0:\n",
    "                left, up, right = [x-1, y+1, 1] in answer, [x, y+1, 0] in answer, [x, y+1, 1] in answer\n",
    "                left_down, left_left = [x-1, y, 0] in answer, [x-2, y+1, 1] in answer\n",
    "                right_down, right_right = [x+1, y, 0] in answer, [x+1, y+1, 1] in answer\n",
    "                if (((not left) and (not up) and (not right))\n",
    "                    or ((not left) and right and right_down) \n",
    "                    or (left and (not right) and left_down) \n",
    "                    or (left and right and (left_down or left_left) and (right_down or right_right))):\n",
    "                    answer.remove([x, y, a])\n",
    "            else:\n",
    "                down_left, down_right = [x, y-1, 0] in answer, [x+1, y-1, 0] in answer\n",
    "                up_left, up_right = [x, y, 0] in answer, [x+1, y, 0] in answer\n",
    "                left, left_down = [x-1, y, 1] in answer, [x-1, y-1, 0] in answer\n",
    "                right, right_down = [x+1, y, 1] in answer, [x+2, y-1, 0] in answer\n",
    "                check_left = ((left and left_down) or ((not left) and (not up_left)))\n",
    "                check_right = ((right and right_down) or ((not right) and (not up_right)))\n",
    "\n",
    "                if ((down_left and down_right) \n",
    "                    or ((not down_left) and down_right and check_left)\n",
    "                    or (down_left and (not down_right) and check_right) \n",
    "                    or ((not down_left) and (not down_right) and left_down and right_down)):\n",
    "                    answer.remove([x, y, a])\n",
    "    return sorted(answer)"
   ]
  }
 ],
 "metadata": {
  "kernelspec": {
   "display_name": "py_36",
   "language": "python",
   "name": "py_36"
  },
  "language_info": {
   "codemirror_mode": {
    "name": "ipython",
    "version": 3
   },
   "file_extension": ".py",
   "mimetype": "text/x-python",
   "name": "python",
   "nbconvert_exporter": "python",
   "pygments_lexer": "ipython3",
   "version": "3.6.10"
  }
 },
 "nbformat": 4,
 "nbformat_minor": 2
}
