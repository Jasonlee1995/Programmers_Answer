{
 "cells": [
  {
   "cell_type": "markdown",
   "metadata": {},
   "source": [
    "## [그래프] 순위\n",
    "\n",
    "- 문제 링크 : <https://programmers.co.kr/learn/courses/30/lessons/49191>\n",
    "- 풀이 날짜 : 30 Mar 2020\n",
    "- 문제가 변경되어 풀이가 더이상 적용되지 않는다면 issue를 남겨주시면 됩니다\n",
    "- 본 풀이는 스스로 풀었기에 최적이 아닐 수 있음을 미리 알려드립니다"
   ]
  },
  {
   "cell_type": "code",
   "execution_count": null,
   "metadata": {},
   "outputs": [],
   "source": [
    "def solution(n, results):\n",
    "    player_record = [[set(), set()] for _ in range(n)]\n",
    "    for winner, loser in results:\n",
    "        player_record[winner-1][0].add(loser-1)\n",
    "        player_record[loser-1][1].add(winner-1)\n",
    "    for i, (win_set, lose_set) in enumerate(player_record):\n",
    "        for loser in win_set:\n",
    "            player_record[loser][1].add(i)\n",
    "            player_record[loser][1].update(lose_set)\n",
    "        for winner in lose_set:\n",
    "            player_record[winner][0].add(i)\n",
    "            player_record[winner][0].update(win_set)\n",
    "    answer = sum(1 for i in range(n) if len(player_record[i][0])+len(player_record[i][1]) == n-1)\n",
    "    return answer"
   ]
  }
 ],
 "metadata": {
  "kernelspec": {
   "display_name": "py_36",
   "language": "python",
   "name": "py_36"
  },
  "language_info": {
   "codemirror_mode": {
    "name": "ipython",
    "version": 3
   },
   "file_extension": ".py",
   "mimetype": "text/x-python",
   "name": "python",
   "nbconvert_exporter": "python",
   "pygments_lexer": "ipython3",
   "version": "3.6.10"
  }
 },
 "nbformat": 4,
 "nbformat_minor": 2
}
