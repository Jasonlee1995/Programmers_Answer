{
 "cells": [
  {
   "cell_type": "markdown",
   "metadata": {},
   "source": [
    "## [연습문제] N-Queen\n",
    "\n",
    "- 문제 링크 : <https://programmers.co.kr/learn/courses/30/lessons/12952>\n",
    "- 풀이 날짜 : 12 May 2020\n",
    "- 문제가 변경되어 풀이가 더이상 적용되지 않는다면 issue를 남겨주시면 됩니다\n",
    "- 본 풀이는 스스로 풀었기에 최적이 아닐 수 있음을 미리 알려드립니다"
   ]
  },
  {
   "cell_type": "code",
   "execution_count": null,
   "metadata": {},
   "outputs": [],
   "source": [
    "def find(i, n):\n",
    "    answer = 0\n",
    "    stack = [[i]]\n",
    "    while stack:\n",
    "        case = stack.pop()\n",
    "        if len(case) == n: answer += 1\n",
    "        else:\n",
    "            candidate = set(range(n))\n",
    "            for i in range(len(case)):\n",
    "                candidate -= {case[i]+(len(case)-i), case[i], case[i]-(len(case)-i)}\n",
    "            stack += [case+[c] for c in candidate]\n",
    "    return answer\n",
    "\n",
    "def solution(n):\n",
    "    answer = 0\n",
    "    for i in range(n//2): answer += find(i, n)\n",
    "    answer *= 2\n",
    "    if n%2 == 1: answer += find(n//2, n)\n",
    "    return answer"
   ]
  }
 ],
 "metadata": {
  "kernelspec": {
   "display_name": "py_36",
   "language": "python",
   "name": "py_36"
  },
  "language_info": {
   "codemirror_mode": {
    "name": "ipython",
    "version": 3
   },
   "file_extension": ".py",
   "mimetype": "text/x-python",
   "name": "python",
   "nbconvert_exporter": "python",
   "pygments_lexer": "ipython3",
   "version": "3.6.10"
  }
 },
 "nbformat": 4,
 "nbformat_minor": 2
}
