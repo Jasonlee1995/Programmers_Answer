{
 "cells": [
  {
   "cell_type": "markdown",
   "metadata": {},
   "source": [
    "## [이분탐색] 예산\n",
    "\n",
    "- 문제 링크 : <https://programmers.co.kr/learn/courses/30/lessons/43237>\n",
    "- 풀이 날짜 : 26 Mar 2020\n",
    "- 문제가 변경되어 풀이가 더이상 적용되지 않는다면 issue를 남겨주시면 됩니다\n",
    "- 본 풀이는 스스로 풀었기에 최적이 아닐 수 있음을 미리 알려드립니다"
   ]
  },
  {
   "cell_type": "code",
   "execution_count": null,
   "metadata": {},
   "outputs": [],
   "source": [
    "def solution(budgets, M):\n",
    "    budget_range = [(0, 0), (max(budgets), sum(budgets))]\n",
    "    while budget_range[1][0] - budget_range[0][0] > 1:\n",
    "        mid = (budget_range[0][0]+budget_range[1][0])//2\n",
    "        budget_sum = 0\n",
    "        for budget in budgets:\n",
    "            if budget <= mid: budget_sum += budget\n",
    "            else: budget_sum += mid\n",
    "        if budget_sum > M: budget_range[1] = (mid, budget_sum)\n",
    "        else: budget_range[0] = (mid, budget_sum)\n",
    "    if budget_range[1][1] <= M: return budget_range[1][0]\n",
    "    else: return budget_range[0][0]"
   ]
  }
 ],
 "metadata": {
  "kernelspec": {
   "display_name": "py_36",
   "language": "python",
   "name": "py_36"
  },
  "language_info": {
   "codemirror_mode": {
    "name": "ipython",
    "version": 3
   },
   "file_extension": ".py",
   "mimetype": "text/x-python",
   "name": "python",
   "nbconvert_exporter": "python",
   "pygments_lexer": "ipython3",
   "version": "3.6.10"
  }
 },
 "nbformat": 4,
 "nbformat_minor": 2
}
