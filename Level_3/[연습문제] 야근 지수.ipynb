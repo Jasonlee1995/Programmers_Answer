{
 "cells": [
  {
   "cell_type": "markdown",
   "metadata": {},
   "source": [
    "## [연습문제] 야근 지수\n",
    "\n",
    "- 문제 링크 : <https://programmers.co.kr/learn/courses/30/lessons/12927>\n",
    "- 풀이 날짜 : 5 May 2020\n",
    "- 문제가 변경되어 풀이가 더이상 적용되지 않는다면 issue를 남겨주시면 됩니다\n",
    "- 본 풀이는 스스로 풀었기에 최적이 아닐 수 있음을 미리 알려드립니다"
   ]
  },
  {
   "cell_type": "code",
   "execution_count": null,
   "metadata": {},
   "outputs": [],
   "source": [
    "# heapq : inefficient\n",
    "from heapq import *\n",
    "\n",
    "def solution(n, works):\n",
    "    negative_works = list(map(lambda x: -x, works))\n",
    "    heapify(negative_works)\n",
    "    for i in range(n):\n",
    "        if negative_works[0] != 0:\n",
    "            heappush(negative_works, heappop(negative_works)+1)\n",
    "        else:\n",
    "            return 0\n",
    "    answer = sum(map(lambda x: x**2, negative_works))\n",
    "    return answer"
   ]
  },
  {
   "cell_type": "code",
   "execution_count": null,
   "metadata": {},
   "outputs": [],
   "source": [
    "# without heapq : efficient\n",
    "def solution(n, works):\n",
    "    works.sort(reverse=True)\n",
    "    diff = [works[i]-works[i+1] for i in range(len(works)-1)]\n",
    "    for i in range(len(diff)):\n",
    "        if n >= (i+1)*diff[i]:\n",
    "            n -= (i+1)*diff[i]\n",
    "        else:\n",
    "            break\n",
    "    else:\n",
    "        if n >= len(works)*works[-1]:\n",
    "            return 0\n",
    "        else:\n",
    "            q, r = n//len(works), n%len(works)\n",
    "            return ((works[-1]-q-1)**2)*r + ((works[-1]-q)**2)*(len(works)-r)\n",
    "    q, r = n//(i+1), n%(i+1)\n",
    "    answer = ((works[i]-q-1)**2)*r + ((works[i]-q)**2)*(i+1-r) + sum(map(lambda x: x**2, works[i+1:]))\n",
    "    return answer"
   ]
  }
 ],
 "metadata": {
  "kernelspec": {
   "display_name": "py_36",
   "language": "python",
   "name": "py_36"
  },
  "language_info": {
   "codemirror_mode": {
    "name": "ipython",
    "version": 3
   },
   "file_extension": ".py",
   "mimetype": "text/x-python",
   "name": "python",
   "nbconvert_exporter": "python",
   "pygments_lexer": "ipython3",
   "version": "3.6.10"
  }
 },
 "nbformat": 4,
 "nbformat_minor": 2
}
