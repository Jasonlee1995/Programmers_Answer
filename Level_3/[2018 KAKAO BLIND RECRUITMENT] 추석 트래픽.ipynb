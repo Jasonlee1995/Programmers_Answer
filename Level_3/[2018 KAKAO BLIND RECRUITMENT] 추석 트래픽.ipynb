{
 "cells": [
  {
   "cell_type": "markdown",
   "metadata": {},
   "source": [
    "## [2018 KAKAO BLIND RECRUITMENT] 추석 트래픽\n",
    "\n",
    "- 문제 링크 : <https://programmers.co.kr/learn/courses/30/lessons/17676>\n",
    "- 풀이 날짜 : 12 Mar 2020\n",
    "- 문제가 변경되어 풀이가 더이상 적용되지 않는다면 issue를 남겨주시면 됩니다\n",
    "- 본 풀이는 스스로 풀었기에 최적이 아닐 수 있음을 미리 알려드립니다"
   ]
  },
  {
   "cell_type": "code",
   "execution_count": null,
   "metadata": {},
   "outputs": [],
   "source": [
    "def solution(lines):\n",
    "    log = list()\n",
    "    for line in lines:\n",
    "        _, time, spend = line.split()\n",
    "        hour, minute, second = map(float, time.split(':'))\n",
    "        end_time = 3600*int(hour) + 60*int(minute) + second\n",
    "        start_time = end_time-float(spend[:-1])+0.001\n",
    "        log.append((start_time, end_time))\n",
    "    answer = 0\n",
    "    for i in range(len(log)):\n",
    "        temp = 1\n",
    "        for j in range(i+1, len(log)):\n",
    "            if log[j][1]-log[i][1] > 4: break\n",
    "            elif log[j][0] < log[i][1]+1: temp += 1\n",
    "        answer = max(answer, temp)\n",
    "    return answer"
   ]
  }
 ],
 "metadata": {
  "kernelspec": {
   "display_name": "py_36",
   "language": "python",
   "name": "py_36"
  },
  "language_info": {
   "codemirror_mode": {
    "name": "ipython",
    "version": 3
   },
   "file_extension": ".py",
   "mimetype": "text/x-python",
   "name": "python",
   "nbconvert_exporter": "python",
   "pygments_lexer": "ipython3",
   "version": "3.6.10"
  }
 },
 "nbformat": 4,
 "nbformat_minor": 2
}
