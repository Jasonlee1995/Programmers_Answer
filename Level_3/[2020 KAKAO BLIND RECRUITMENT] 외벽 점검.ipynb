{
 "cells": [
  {
   "cell_type": "markdown",
   "metadata": {},
   "source": [
    "## [2020 KAKAO BLIND RECRUITMENT] 외벽 점검\n",
    "\n",
    "- 문제 링크 : <https://programmers.co.kr/learn/courses/30/lessons/60062>\n",
    "- 풀이 날짜 : 17 Apr 2020\n",
    "- 문제가 변경되어 풀이가 더이상 적용되지 않는다면 issue를 남겨주시면 됩니다\n",
    "- 본 풀이는 스스로 풀었기에 최적이 아닐 수 있음을 미리 알려드립니다"
   ]
  },
  {
   "cell_type": "code",
   "execution_count": null,
   "metadata": {},
   "outputs": [],
   "source": [
    "import itertools\n",
    "\n",
    "def check(weak_distance, index):\n",
    "    w = weak_distance.copy()\n",
    "    for i in index: w[i] = 0\n",
    "    answer = []\n",
    "    num = 0\n",
    "    for i in range(len(w)):\n",
    "        if w[i] == 0:\n",
    "            answer.append(num)\n",
    "            num = 0\n",
    "        else: num += w[i]\n",
    "    if w[-1] != 0: answer[0] += num\n",
    "    return sorted(answer)\n",
    "\n",
    "def solution(n, weak_points, workers):\n",
    "    if len(weak_points) == 1: return 1\n",
    "    weak_points, workers = sorted(weak_points), sorted(workers)\n",
    "    weak_distance = [n-weak_points[-1]+weak_points[0]]\n",
    "    for i in range(1, len(weak_points)):\n",
    "        weak_distance.append(weak_points[i]-weak_points[i-1])\n",
    "    \n",
    "    for i in range(1, len(workers)+1):\n",
    "        zero_index = itertools.combinations(range(len(weak_distance)), i)\n",
    "        for index in zero_index:\n",
    "            temp_distance = check(weak_distance, index)\n",
    "            for j in range(1, len(temp_distance)+1):\n",
    "                if temp_distance[-j] > workers[-j]:\n",
    "                    break\n",
    "            else:\n",
    "                return i\n",
    "    return -1"
   ]
  }
 ],
 "metadata": {
  "kernelspec": {
   "display_name": "py_36",
   "language": "python",
   "name": "py_36"
  },
  "language_info": {
   "codemirror_mode": {
    "name": "ipython",
    "version": 3
   },
   "file_extension": ".py",
   "mimetype": "text/x-python",
   "name": "python",
   "nbconvert_exporter": "python",
   "pygments_lexer": "ipython3",
   "version": "3.6.10"
  }
 },
 "nbformat": 4,
 "nbformat_minor": 2
}
