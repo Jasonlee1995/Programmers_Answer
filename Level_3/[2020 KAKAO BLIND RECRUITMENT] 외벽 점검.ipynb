{
 "cells": [
  {
   "cell_type": "markdown",
   "metadata": {},
   "source": [
    "## [2020 KAKAO BLIND RECRUITMENT] 외벽 점검\n",
    "\n",
    "- 문제 링크 : <https://programmers.co.kr/learn/courses/30/lessons/60062>\n",
    "- 풀이 날짜 : 17 Apr 2020\n",
    "- 문제가 변경되어 풀이가 더이상 적용되지 않는다면 issue를 남겨주시면 됩니다\n",
    "- 본 풀이는 스스로 풀었기에 최적이 아닐 수 있음을 미리 알려드립니다"
   ]
  },
  {
   "cell_type": "code",
   "execution_count": null,
   "metadata": {},
   "outputs": [],
   "source": [
    "import itertools\n",
    "\n",
    "def add_distance(weak_distance, mask_index):\n",
    "    w = weak_distance.copy()\n",
    "    for index in mask_index:\n",
    "        w[index] = 0\n",
    "    answer, cache = list(), list()\n",
    "    for i in range(len(w)):\n",
    "        if w[i] == 0:\n",
    "            answer.append(sum(cache))\n",
    "            cache = list()\n",
    "        else:\n",
    "            cache.append(w[i])\n",
    "    answer[0] += sum(cache)\n",
    "    return sorted(answer)\n",
    "\n",
    "def solution(n, weak, dist):\n",
    "    weak_distance = [n-weak[-1]+weak[0]] + [weak[i+1]-weak[i] for i in range(len(weak)-1)]\n",
    "    dist.sort()\n",
    "    for i in range(1, len(dist)+1):\n",
    "        for mask_index in itertools.combinations(range(len(weak_distance)), i):\n",
    "            temp_distance = add_distance(weak_distance, mask_index)\n",
    "            for j in range(1, len(temp_distance)+1):\n",
    "                if temp_distance[-j] > dist[-j]:\n",
    "                    break\n",
    "            else:\n",
    "                return i\n",
    "    return -1"
   ]
  }
 ],
 "metadata": {
  "kernelspec": {
   "display_name": "py_36",
   "language": "python",
   "name": "py_36"
  },
  "language_info": {
   "codemirror_mode": {
    "name": "ipython",
    "version": 3
   },
   "file_extension": ".py",
   "mimetype": "text/x-python",
   "name": "python",
   "nbconvert_exporter": "python",
   "pygments_lexer": "ipython3",
   "version": "3.6.10"
  }
 },
 "nbformat": 4,
 "nbformat_minor": 2
}
