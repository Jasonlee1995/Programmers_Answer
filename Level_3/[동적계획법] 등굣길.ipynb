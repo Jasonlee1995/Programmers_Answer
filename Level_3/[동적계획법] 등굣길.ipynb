{
 "cells": [
  {
   "cell_type": "markdown",
   "metadata": {},
   "source": [
    "## [동적계획법] 등굣길\n",
    "\n",
    "- 문제 링크 : <https://programmers.co.kr/learn/courses/30/lessons/42898>\n",
    "- 풀이 날짜 : 8 Apr 2020\n",
    "- 문제가 변경되어 풀이가 더이상 적용되지 않는다면 issue를 남겨주시면 됩니다\n",
    "- 본 풀이는 스스로 풀었기에 최적이 아닐 수 있음을 미리 알려드립니다"
   ]
  },
  {
   "cell_type": "code",
   "execution_count": null,
   "metadata": {},
   "outputs": [],
   "source": [
    "def solution(m, n, puddles):\n",
    "    matrix = [[1] * m for _ in range(n)]\n",
    "    for x, y in puddles:\n",
    "        matrix[y-1][x-1] = 0\n",
    "    for y in range(n):\n",
    "        for x in range(m):\n",
    "            if matrix[y][x] != 0:\n",
    "                if (x == 0) and (y == 0): pass\n",
    "                elif x == 0: matrix[y][x] = matrix[y-1][x]\n",
    "                elif y == 0: matrix[y][x] = matrix[y][x-1]\n",
    "                else: matrix[y][x] = matrix[y-1][x] + matrix[y][x-1]\n",
    "    return matrix[-1][-1] % 1000000007"
   ]
  }
 ],
 "metadata": {
  "kernelspec": {
   "display_name": "py_36",
   "language": "python",
   "name": "py_36"
  },
  "language_info": {
   "codemirror_mode": {
    "name": "ipython",
    "version": 3
   },
   "file_extension": ".py",
   "mimetype": "text/x-python",
   "name": "python",
   "nbconvert_exporter": "python",
   "pygments_lexer": "ipython3",
   "version": "3.6.10"
  }
 },
 "nbformat": 4,
 "nbformat_minor": 2
}
