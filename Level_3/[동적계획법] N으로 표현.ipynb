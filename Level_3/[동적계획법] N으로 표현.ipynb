{
 "cells": [
  {
   "cell_type": "markdown",
   "metadata": {},
   "source": [
    "## [동적계획법] N으로 표현\n",
    "\n",
    "- 문제 링크 : <https://programmers.co.kr/learn/courses/30/lessons/42895>\n",
    "- 풀이 날짜 : 14 Mar 2020\n",
    "- 문제가 변경되어 풀이가 더이상 적용되지 않는다면 issue를 남겨주시면 됩니다\n",
    "- 본 풀이는 스스로 풀었기에 최적이 아닐 수 있음을 미리 알려드립니다"
   ]
  },
  {
   "cell_type": "code",
   "execution_count": null,
   "metadata": {},
   "outputs": [],
   "source": [
    "def solution(N, number):\n",
    "    dic = {i:{int(str(N)*i)} for i in range(1, 9)}\n",
    "    for i in range(1, 9):\n",
    "        for j in range(1, i):\n",
    "            for m in dic[j]:\n",
    "                for n in dic[i-j]:\n",
    "                    if n == 0: dic[i].update({m+n, m-n, m*n})\n",
    "                    else: dic[i].update({m+n, m-n, m*n, m//n})\n",
    "        if number in dic[i]: return i\n",
    "    return -1"
   ]
  }
 ],
 "metadata": {
  "kernelspec": {
   "display_name": "py_36",
   "language": "python",
   "name": "py_36"
  },
  "language_info": {
   "codemirror_mode": {
    "name": "ipython",
    "version": 3
   },
   "file_extension": ".py",
   "mimetype": "text/x-python",
   "name": "python",
   "nbconvert_exporter": "python",
   "pygments_lexer": "ipython3",
   "version": "3.6.10"
  }
 },
 "nbformat": 4,
 "nbformat_minor": 2
}
