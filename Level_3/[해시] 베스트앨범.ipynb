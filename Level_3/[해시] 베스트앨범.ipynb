{
 "cells": [
  {
   "cell_type": "markdown",
   "metadata": {},
   "source": [
    "## [해시] 베스트앨범\n",
    "\n",
    "- 문제 링크 : <https://programmers.co.kr/learn/courses/30/lessons/42579>\n",
    "- 풀이 날짜 : 31 Mar 2020\n",
    "- 문제가 변경되어 풀이가 더이상 적용되지 않는다면 issue를 남겨주시면 됩니다\n",
    "- 본 풀이는 스스로 풀었기에 최적이 아닐 수 있음을 미리 알려드립니다"
   ]
  },
  {
   "cell_type": "code",
   "execution_count": null,
   "metadata": {},
   "outputs": [],
   "source": [
    "def solution(genres, plays):\n",
    "    genre_info = dict()\n",
    "    for i, genre in enumerate(genres):\n",
    "        if genre not in genre_info: genre_info[genre] = {i: plays[i]}\n",
    "        else: genre_info[genre][i] = plays[i]\n",
    "    genre_info_ordered = sorted(genre_info.items(), key=lambda x: -sum(x[1][key] for key in x[1]))\n",
    "    answer = list()\n",
    "    for genre, play_info in genre_info_ordered:\n",
    "        answer += sorted(play_info, key=lambda x: -play_info[x])[:2]\n",
    "    return answer"
   ]
  }
 ],
 "metadata": {
  "kernelspec": {
   "display_name": "py_36",
   "language": "python",
   "name": "py_36"
  },
  "language_info": {
   "codemirror_mode": {
    "name": "ipython",
    "version": 3
   },
   "file_extension": ".py",
   "mimetype": "text/x-python",
   "name": "python",
   "nbconvert_exporter": "python",
   "pygments_lexer": "ipython3",
   "version": "3.6.10"
  }
 },
 "nbformat": 4,
 "nbformat_minor": 2
}
