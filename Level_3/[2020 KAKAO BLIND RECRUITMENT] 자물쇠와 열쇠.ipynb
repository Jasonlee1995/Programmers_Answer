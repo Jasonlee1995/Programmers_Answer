{
 "cells": [
  {
   "cell_type": "markdown",
   "metadata": {},
   "source": [
    "## [2020 KAKAO BLIND RECRUITMENT] 자물쇠와 열쇠\n",
    "\n",
    "- 문제 링크 : <https://programmers.co.kr/learn/courses/30/lessons/60059>\n",
    "- 풀이 날짜 : 18 Mar 2020\n",
    "- 문제가 변경되어 풀이가 더이상 적용되지 않는다면 issue를 남겨주시면 됩니다\n",
    "- 본 풀이는 스스로 풀었기에 최적이 아닐 수 있음을 미리 알려드립니다"
   ]
  },
  {
   "cell_type": "code",
   "execution_count": null,
   "metadata": {},
   "outputs": [],
   "source": [
    "def rotation(matrix):\n",
    "    row, column = len(matrix), len(matrix[0])\n",
    "    rotate_matrix = list()\n",
    "    for j in range(column):\n",
    "        temp = list()\n",
    "        for i in range(row-1, -1, -1): temp.append(matrix[i][j])\n",
    "        rotate_matrix.append(temp)\n",
    "    return rotate_matrix\n",
    "\n",
    "def one_padding(matrix, n):\n",
    "    row, column = len(matrix), len(matrix[0]) + 2*n\n",
    "    for i in range(row): matrix[i] = [1]*n + matrix[i] + [1]*n\n",
    "    matrix = [[1]*column]*n + matrix + [[1]*column]*n\n",
    "    return matrix\n",
    "\n",
    "def find_target(matrix, target):\n",
    "    row, column = len(matrix), len(matrix[0])\n",
    "    target_index = list()\n",
    "    for i in range(row):\n",
    "        for j in range(column):\n",
    "            if matrix[i][j] == target: target_index.append((i, j))\n",
    "    return target_index\n",
    "\n",
    "def move_key_index(key_index, i, j, N, M):\n",
    "    temp = list()\n",
    "    for x, y in key_index:\n",
    "        if (M <= x+i < N-M) and (M <= y+j < N-M): temp.append((x+i, y+j))\n",
    "    return temp\n",
    "\n",
    "def solution(key, lock):\n",
    "    key_list = [key]\n",
    "    for i in range(3): key_list.append(rotation(key_list[-1]))\n",
    "    keys_index = [find_target(k, 1) for k in key_list]\n",
    "    lock = one_padding(lock, len(key))\n",
    "    holes_index = find_target(lock, 0)\n",
    "    \n",
    "    N, M = len(lock), len(key)\n",
    "    for i in range(N):\n",
    "        for j in range(N):\n",
    "            for key_index in keys_index:\n",
    "                if holes_index == move_key_index(key_index, i, j, N, M):\n",
    "                    return True\n",
    "    return False"
   ]
  }
 ],
 "metadata": {
  "kernelspec": {
   "display_name": "py_36",
   "language": "python",
   "name": "py_36"
  },
  "language_info": {
   "codemirror_mode": {
    "name": "ipython",
    "version": 3
   },
   "file_extension": ".py",
   "mimetype": "text/x-python",
   "name": "python",
   "nbconvert_exporter": "python",
   "pygments_lexer": "ipython3",
   "version": "3.6.10"
  }
 },
 "nbformat": 4,
 "nbformat_minor": 2
}
