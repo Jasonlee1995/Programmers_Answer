{
 "cells": [
  {
   "cell_type": "markdown",
   "metadata": {},
   "source": [
    "## [연습문제] 거스름돈\n",
    "\n",
    "- 문제 링크 : <https://programmers.co.kr/learn/courses/30/lessons/12907>\n",
    "- 풀이 날짜 : 20 Apr 2020\n",
    "- 문제가 변경되어 풀이가 더이상 적용되지 않는다면 issue를 남겨주시면 됩니다\n",
    "- 본 풀이는 스스로 풀었기에 최적이 아닐 수 있음을 미리 알려드립니다"
   ]
  },
  {
   "cell_type": "code",
   "execution_count": null,
   "metadata": {},
   "outputs": [],
   "source": [
    "def solution(n, money):\n",
    "    money.sort()\n",
    "    matrix = [[0]*(n+1) for _ in money]\n",
    "    for i in range(len(money)):\n",
    "        for j in range(n+1):\n",
    "            if i == 0:\n",
    "                if j%money[i] == 0: matrix[i][j] = 1\n",
    "            else:\n",
    "                if j < money[i]: matrix[i][j] = matrix[i-1][j]\n",
    "                else: matrix[i][j] = matrix[i-1][j] + matrix[i][j-money[i]]\n",
    "    return matrix[-1][-1]"
   ]
  }
 ],
 "metadata": {
  "kernelspec": {
   "display_name": "py_36",
   "language": "python",
   "name": "py_36"
  },
  "language_info": {
   "codemirror_mode": {
    "name": "ipython",
    "version": 3
   },
   "file_extension": ".py",
   "mimetype": "text/x-python",
   "name": "python",
   "nbconvert_exporter": "python",
   "pygments_lexer": "ipython3",
   "version": "3.6.10"
  }
 },
 "nbformat": 4,
 "nbformat_minor": 2
}
