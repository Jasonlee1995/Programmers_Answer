{
 "cells": [
  {
   "cell_type": "markdown",
   "metadata": {},
   "source": [
    "## [월간 코드 챌린지 시즌2] 모두 0으로 만들기\n",
    "\n",
    "- 문제 링크 : <https://programmers.co.kr/learn/courses/30/lessons/76503>\n",
    "- 풀이 날짜 : 30 Apr 2021\n",
    "- 문제가 변경되어 풀이가 더이상 적용되지 않는다면 issue를 남겨주시면 됩니다\n",
    "- 본 풀이는 스스로 풀었기에 최적이 아닐 수 있음을 미리 알려드립니다"
   ]
  },
  {
   "cell_type": "code",
   "execution_count": null,
   "metadata": {},
   "outputs": [],
   "source": [
    "class Node():\n",
    "    def __init__(self, top, bottoms, weight):\n",
    "        self.top = top\n",
    "        self.bottoms = bottoms\n",
    "        self.weight = weight\n",
    "\n",
    "\n",
    "def solution(a, edges):\n",
    "    if sum(a) != 0: return -1\n",
    "    \n",
    "    edge_infos = {}\n",
    "    for edge0, edge1 in edges:\n",
    "        if edge_infos.get(edge0) == None: edge_infos[edge0] = []\n",
    "        if edge_infos.get(edge1) == None: edge_infos[edge1] = []\n",
    "        edge_infos[edge0].append(edge1)\n",
    "        edge_infos[edge1].append(edge0)\n",
    "    \n",
    "    edge_dic = {}\n",
    "    stack = [0]\n",
    "    while stack:\n",
    "        edge = stack.pop()\n",
    "        if edge_dic.get(edge) == None:\n",
    "            edge_dic[edge] = Node(-1, [], a[edge])\n",
    "        for bottom in edge_infos[edge]:\n",
    "            if bottom != edge_dic[edge].top:\n",
    "                edge_dic[edge].bottoms.append(bottom)\n",
    "                edge_dic[bottom] = Node(edge, [], a[bottom])\n",
    "                stack.append(bottom)\n",
    "                \n",
    "    count = 0\n",
    "    stack = [0]\n",
    "    while stack:\n",
    "        edge = stack[-1]\n",
    "        if len(edge_dic[edge].bottoms) == 0:\n",
    "            if edge_dic[edge].weight != 0:\n",
    "                edge_dic[edge_dic[edge].top].weight += edge_dic[edge].weight\n",
    "                count += abs(edge_dic[edge].weight)\n",
    "            stack.pop()\n",
    "        else:\n",
    "            for bottom in edge_dic[edge].bottoms: stack.append(bottom)\n",
    "            edge_dic[edge].bottoms = []\n",
    "    return count"
   ]
  }
 ],
 "metadata": {
  "kernelspec": {
   "display_name": "Python 3",
   "language": "python",
   "name": "python3"
  },
  "language_info": {
   "codemirror_mode": {
    "name": "ipython",
    "version": 3
   },
   "file_extension": ".py",
   "mimetype": "text/x-python",
   "name": "python",
   "nbconvert_exporter": "python",
   "pygments_lexer": "ipython3",
   "version": "3.7.6"
  }
 },
 "nbformat": 4,
 "nbformat_minor": 2
}
