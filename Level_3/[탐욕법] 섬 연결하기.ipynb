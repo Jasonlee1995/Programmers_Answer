{
 "cells": [
  {
   "cell_type": "markdown",
   "metadata": {},
   "source": [
    "## [탐욕법] 섬 연결하기\n",
    "\n",
    "- 문제 링크 : <https://programmers.co.kr/learn/courses/30/lessons/42861>\n",
    "- 풀이 날짜 : 22 Mar 2020\n",
    "- 문제가 변경되어 풀이가 더이상 적용되지 않는다면 issue를 남겨주시면 됩니다\n",
    "- 본 풀이는 스스로 풀었기에 최적이 아닐 수 있음을 미리 알려드립니다"
   ]
  },
  {
   "cell_type": "code",
   "execution_count": null,
   "metadata": {},
   "outputs": [],
   "source": [
    "class Disjoint_set():\n",
    "    def __init__(self, n):\n",
    "        self.parent = [i for i in range(n)]\n",
    "    def union(self, parent1, parent2):\n",
    "        parent, child = min(parent1, parent2), max(parent1, parent2)\n",
    "        for i in range(len(self.parent)):\n",
    "            if self.parent[i] == child:\n",
    "                self.parent[i] = parent\n",
    "        \n",
    "def solution(n, costs):\n",
    "    disjoint = Disjoint_set(n)\n",
    "    answer, count = 0, 0\n",
    "    for node1, node2, cost in sorted(costs, key=lambda x: x[-1]):\n",
    "        if count == 2*n-2:\n",
    "            break\n",
    "        else:\n",
    "            parent1, parent2 = disjoint.parent[node1], disjoint.parent[node2]\n",
    "            if parent1 != parent2:\n",
    "                disjoint.union(parent1, parent2)\n",
    "                answer, count = answer+cost, count+2\n",
    "    return answer"
   ]
  }
 ],
 "metadata": {
  "kernelspec": {
   "display_name": "py_36",
   "language": "python",
   "name": "py_36"
  },
  "language_info": {
   "codemirror_mode": {
    "name": "ipython",
    "version": 3
   },
   "file_extension": ".py",
   "mimetype": "text/x-python",
   "name": "python",
   "nbconvert_exporter": "python",
   "pygments_lexer": "ipython3",
   "version": "3.6.10"
  }
 },
 "nbformat": 4,
 "nbformat_minor": 2
}
