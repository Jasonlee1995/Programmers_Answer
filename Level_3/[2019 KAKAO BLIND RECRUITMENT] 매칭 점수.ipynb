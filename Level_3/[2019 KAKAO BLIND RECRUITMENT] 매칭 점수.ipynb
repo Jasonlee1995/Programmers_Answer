{
 "cells": [
  {
   "cell_type": "markdown",
   "metadata": {},
   "source": [
    "## [2019 KAKAO BLIND RECRUITMENT] 매칭 점수\n",
    "\n",
    "- 문제 링크 : <https://programmers.co.kr/learn/courses/30/lessons/42893>\n",
    "- 풀이 날짜 : 5 Jun 2020\n",
    "- 문제가 변경되어 풀이가 더이상 적용되지 않는다면 issue를 남겨주시면 됩니다\n",
    "- 본 풀이는 스스로 풀었기에 최적이 아닐 수 있음을 미리 알려드립니다"
   ]
  },
  {
   "cell_type": "code",
   "execution_count": null,
   "metadata": {},
   "outputs": [],
   "source": [
    "import re\n",
    "\n",
    "class Node():\n",
    "    def __init__(self, title, links, base_score):\n",
    "        self.title = title\n",
    "        self.links = links\n",
    "        self.base_score = base_score\n",
    "        self.link_score = 0\n",
    "\n",
    "def solution(word, pages):\n",
    "    page_info = {}\n",
    "    for page in pages:\n",
    "        title = page.split('<meta property=\\\"og:url\\\" content=\\\"')[1].split('\\\"')[0]\n",
    "        links = [link.split('\\\"')[0] for link in page.split('a href=\\\"')[1:]]\n",
    "        base_score = re.sub('[^a-z]+', '.', page.lower()).split('.').count(word.lower())\n",
    "        page_info[title] = Node(title, links, base_score)\n",
    "\n",
    "    for page in page_info:\n",
    "        for link in page_info[page].links:\n",
    "            if link in page_info:\n",
    "                page_info[link].link_score += page_info[page].base_score/len(page_info[page].links)\n",
    "\n",
    "    answer = [0, 0]\n",
    "    for i, page in enumerate(page_info):\n",
    "        if answer[1] < page_info[page].base_score + page_info[page].link_score:\n",
    "            answer = [i, page_info[page].base_score + page_info[page].link_score]\n",
    "\n",
    "    return answer[0]"
   ]
  }
 ],
 "metadata": {
  "kernelspec": {
   "display_name": "py_36",
   "language": "python",
   "name": "py_36"
  },
  "language_info": {
   "codemirror_mode": {
    "name": "ipython",
    "version": 3
   },
   "file_extension": ".py",
   "mimetype": "text/x-python",
   "name": "python",
   "nbconvert_exporter": "python",
   "pygments_lexer": "ipython3",
   "version": "3.6.10"
  }
 },
 "nbformat": 4,
 "nbformat_minor": 2
}
