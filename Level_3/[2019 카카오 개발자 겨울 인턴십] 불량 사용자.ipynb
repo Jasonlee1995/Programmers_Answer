{
 "cells": [
  {
   "cell_type": "markdown",
   "metadata": {},
   "source": [
    "## [2019 카카오 개발자 겨울 인턴십] 불량 사용자\n",
    "\n",
    "- 문제 링크 : <https://programmers.co.kr/learn/courses/30/lessons/64064>\n",
    "- 풀이 날짜 : 4 May 2020\n",
    "- 문제가 변경되어 풀이가 더이상 적용되지 않는다면 issue를 남겨주시면 됩니다\n",
    "- 본 풀이는 스스로 풀었기에 최적이 아닐 수 있음을 미리 알려드립니다"
   ]
  },
  {
   "cell_type": "code",
   "execution_count": null,
   "metadata": {},
   "outputs": [],
   "source": [
    "import itertools\n",
    "\n",
    "def solution(user_id, banned_id):\n",
    "    candidate = list()\n",
    "    for banned in banned_id:\n",
    "        count = list()\n",
    "        for user in user_id:\n",
    "            if len(user) == len(banned):\n",
    "                for i in range(len(banned)):\n",
    "                    if (banned[i] != '*') and (banned[i] != user[i]): break\n",
    "                else: count.append(user)\n",
    "        candidate.append(count)\n",
    "    answer = set()\n",
    "    for case in itertools.product(*candidate):\n",
    "        if (len(set(case)) == len(case)):\n",
    "            answer.add(tuple(sorted(case)))\n",
    "    return len(answer)"
   ]
  }
 ],
 "metadata": {
  "kernelspec": {
   "display_name": "py_36",
   "language": "python",
   "name": "py_36"
  },
  "language_info": {
   "codemirror_mode": {
    "name": "ipython",
    "version": 3
   },
   "file_extension": ".py",
   "mimetype": "text/x-python",
   "name": "python",
   "nbconvert_exporter": "python",
   "pygments_lexer": "ipython3",
   "version": "3.6.10"
  }
 },
 "nbformat": 4,
 "nbformat_minor": 2
}
