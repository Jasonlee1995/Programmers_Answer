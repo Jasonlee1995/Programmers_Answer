{
 "cells": [
  {
   "cell_type": "markdown",
   "metadata": {},
   "source": [
    "## [동적계획법] 정수 삼각형\n",
    "\n",
    "- 문제 링크 : <https://programmers.co.kr/learn/courses/30/lessons/43105>\n",
    "- 풀이 날짜 : 24 Mar 2020\n",
    "- 문제가 변경되어 풀이가 더이상 적용되지 않는다면 issue를 남겨주시면 됩니다\n",
    "- 본 풀이는 스스로 풀었기에 최적이 아닐 수 있음을 미리 알려드립니다"
   ]
  },
  {
   "cell_type": "code",
   "execution_count": null,
   "metadata": {},
   "outputs": [],
   "source": [
    "def solution(triangle):\n",
    "    for i in range(1, len(triangle)):\n",
    "        for j in range(len(triangle[i])):\n",
    "            if j == 0:\n",
    "                triangle[i][j] += triangle[i-1][j]\n",
    "            elif j == len(triangle[i])-1:\n",
    "                triangle[i][j] += triangle[i-1][j-1]\n",
    "            else:\n",
    "                triangle[i][j] += max(triangle[i-1][j-1], triangle[i-1][j])\n",
    "    return max(triangle[-1])"
   ]
  }
 ],
 "metadata": {
  "kernelspec": {
   "display_name": "py_36",
   "language": "python",
   "name": "py_36"
  },
  "language_info": {
   "codemirror_mode": {
    "name": "ipython",
    "version": 3
   },
   "file_extension": ".py",
   "mimetype": "text/x-python",
   "name": "python",
   "nbconvert_exporter": "python",
   "pygments_lexer": "ipython3",
   "version": "3.6.10"
  }
 },
 "nbformat": 4,
 "nbformat_minor": 2
}
