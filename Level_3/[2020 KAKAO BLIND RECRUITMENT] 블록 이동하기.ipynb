{
 "cells": [
  {
   "cell_type": "markdown",
   "metadata": {},
   "source": [
    "## [2020 KAKAO BLIND RECRUITMENT] 블록 이동하기\n",
    "\n",
    "- 문제 링크 : <https://programmers.co.kr/learn/courses/30/lessons/60063>\n",
    "- 풀이 날짜 : 19 Apr 2020\n",
    "- 문제가 변경되어 풀이가 더이상 적용되지 않는다면 issue를 남겨주시면 됩니다\n",
    "- 본 풀이는 스스로 풀었기에 최적이 아닐 수 있음을 미리 알려드립니다"
   ]
  },
  {
   "cell_type": "code",
   "execution_count": null,
   "metadata": {},
   "outputs": [],
   "source": [
    "import collections\n",
    "\n",
    "def move(board, N, dic, x, y, state, trial):\n",
    "    moves = list()\n",
    "    if state == 0:\n",
    "        if (x-2 >= 0) and (board[y][x-2] == 0): moves.append(((x-1, y, 0), trial+1))\n",
    "        if (x+1 <= N-1) and (board[y][x+1] == 0): moves.append(((x+1, y, 0), trial+1))\n",
    "        if (y-1 >= 0) and (board[y-1][x] == 0) and (board[y-1][x-1] == 0):\n",
    "            moves += [((x, y, 1), trial+1), ((x-1, y, 1), trial+1), ((x, y-1, 0), trial+1)]\n",
    "        if (y+1 <= N-1) and (board[y+1][x] == 0) and (board[y+1][x-1] == 0):\n",
    "            moves += [((x, y+1, 1), trial+1), ((x-1, y+1, 1), trial+1), ((x, y+1, 0), trial+1)]\n",
    "    else:\n",
    "        if (y-2 >= 0) and (board[y-2][x] == 0): moves.append(((x, y-1, 1), trial+1))\n",
    "        if (y+1 <= N-1) and (board[y+1][x] == 0): moves.append(((x, y+1, 1), trial+1))\n",
    "        if (x-1 >= 0) and (board[y][x-1] == 0) and (board[y-1][x-1] == 0):\n",
    "            moves += [((x, y, 0), trial+1), ((x, y-1, 0), trial+1), ((x-1, y, 1), trial+1)]\n",
    "        if (x+1 <= N-1) and (board[y][x+1] == 0) and (board[y-1][x+1] == 0):\n",
    "            moves += [((x+1, y, 0), trial+1), ((x+1, y-1, 0), trial+1), ((x+1, y, 1), trial+1)]\n",
    "    for i, ((x, y, state), trial) in enumerate(moves):\n",
    "        if ((x, y, state) not in dic) or (dic[(x, y, state)] > trial):\n",
    "            dic[(x, y, state)] = trial\n",
    "            yield moves[i]\n",
    "\n",
    "def solution(board):\n",
    "    N = len(board)\n",
    "    start = (1, 0, 0)\n",
    "    dic = {start : 0}\n",
    "    deque = collections.deque([(start, dic[start])])\n",
    "    while deque:\n",
    "        (x, y, state), trial = deque.popleft()\n",
    "        if (x == N-1) and (y == N-1):\n",
    "            return trial\n",
    "        else:\n",
    "            deque += move(board, N, dic, x, y, state, trial)"
   ]
  }
 ],
 "metadata": {
  "kernelspec": {
   "display_name": "py_36",
   "language": "python",
   "name": "py_36"
  },
  "language_info": {
   "codemirror_mode": {
    "name": "ipython",
    "version": 3
   },
   "file_extension": ".py",
   "mimetype": "text/x-python",
   "name": "python",
   "nbconvert_exporter": "python",
   "pygments_lexer": "ipython3",
   "version": "3.6.10"
  }
 },
 "nbformat": 4,
 "nbformat_minor": 2
}
